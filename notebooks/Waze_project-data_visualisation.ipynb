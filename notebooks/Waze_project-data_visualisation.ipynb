{
 "cells": [
  {
   "cell_type": "markdown",
   "metadata": {
    "id": "DtNBZFHO3M7n"
   },
   "source": [
    "# **Waze Project**\n",
    "**Course 3 - Go Beyond the Numbers: Translate Data into Insights**"
   ]
  },
  {
   "cell_type": "markdown",
   "metadata": {
    "id": "g-E8SNtmRUkN"
   },
   "source": [
    "Your team is still in the early stages of their user churn project. So far, you’ve completed a project proposal and used Python to inspect and organize Waze’s user data.\n",
    "\n",
    "You check your inbox and notice a new message from Chidi Ga, your team’s Senior Data Analyst. Chidi is pleased with the work you have already completed and requests your assistance with exploratory data analysis (EDA) and further data visualization. Harriet Hadzic, Waze's Director of Data Analysis, will want to review a Python notebook that shows your data exploration and visualization.\n",
    "\n",
    "A notebook was structured and prepared to help you in this project. Please complete the following questions and prepare an executive summary."
   ]
  },
  {
   "cell_type": "markdown",
   "metadata": {
    "id": "rgSbVJvomcVa"
   },
   "source": [
    "# **Course 3 End-of-course project: Exploratory data analysis**\n",
    "\n",
    "In this activity, you will examine data provided and prepare it for analysis.\n",
    "<br/>\n",
    "\n",
    "**The purpose** of this project is to conduct exploratory data analysis (EDA) on a provided dataset.\n",
    "\n",
    "**The goal** is to continue the examination of the data that you began in the previous Course, adding relevant visualizations that help communicate the story that the data tells.\n",
    "<br/>\n",
    "\n",
    "\n",
    "*This activity has 4 parts:*\n",
    "\n",
    "**Part 1:** Imports, links, and loading\n",
    "\n",
    "**Part 2:** Data Exploration\n",
    "*   Data cleaning\n",
    "\n",
    "\n",
    "**Part 3:** Building visualizations\n",
    "\n",
    "**Part 4:** Evaluating and sharing results\n",
    "\n",
    "<br/>\n",
    "\n",
    "\n",
    "Follow the instructions and answer the question below to complete the activity. Then, you will complete an executive summary using the questions listed on the [PACE Strategy Document ](https://docs.google.com/document/d/1iSHdbfQR6w8RClJNWai8oJXn9tQmYoTKn6QohuaK4-s/template/preview?resourcekey=0-ZIHnbxL1dd2u9A47iEVXvg).\n",
    "\n",
    "Be sure to complete this activity before moving on. The next course item will provide you with a completed exemplar to compare to your own work."
   ]
  },
  {
   "cell_type": "markdown",
   "metadata": {
    "id": "9D43bTW0zOlX"
   },
   "source": [
    "# **Visualize a story in Python**"
   ]
  },
  {
   "cell_type": "markdown",
   "metadata": {
    "id": "rdR5eWbYx8GE"
   },
   "source": [
    "<img src=\"images/Pace.png\" width=\"100\" height=\"100\" align=left>\n",
    "\n",
    "# **PACE stages**\n"
   ]
  },
  {
   "cell_type": "markdown",
   "metadata": {
    "id": "diPme_MzeshF"
   },
   "source": [
    "Throughout these project notebooks, you'll see references to the problem-solving framework PACE. The following notebook components are labeled with the respective PACE stage: Plan, Analyze, Construct, and Execute."
   ]
  },
  {
   "cell_type": "markdown",
   "metadata": {
    "id": "xKLZJUqMx8GE"
   },
   "source": [
    "<img src=\"images/Plan.png\" width=\"100\" height=\"100\" align=left>\n",
    "\n",
    "\n",
    "## **PACE: Plan**\n",
    "\n",
    "Consider the questions in your PACE Strategy Document to reflect on the Plan stage.\n",
    "\n"
   ]
  },
  {
   "cell_type": "markdown",
   "metadata": {
    "id": "SKur6gTPRcvy"
   },
   "source": [
    "### **Task 1. Imports and data loading**\n",
    "\n",
    "For EDA of the data, import the data and packages that will be most helpful, such as pandas, numpy, and matplotlib.\n",
    "\n",
    "\n"
   ]
  },
  {
   "cell_type": "code",
   "execution_count": 1,
   "metadata": {
    "id": "EO8vKZI8x8GF"
   },
   "outputs": [],
   "source": [
    "### YOUR CODE HERE ###\n",
    "import numpy as np\n",
    "import pandas as pd\n",
    "import matplotlib.pyplot as plt\n",
    "import seaborn as sns"
   ]
  },
  {
   "cell_type": "markdown",
   "metadata": {
    "id": "Rf1WWIBW48QC"
   },
   "source": [
    "Read in the data and store it as a dataframe object called df.\n",
    "\n",
    "**Note:** As shown in this cell, the dataset has been automatically loaded in for you. You do not need to download the .csv file, or provide more code, in order to access the dataset and proceed with this lab. Please continue with this activity by completing the following instructions."
   ]
  },
  {
   "cell_type": "code",
   "execution_count": 2,
   "metadata": {
    "id": "w7XSDxoqyF9D",
    "scrolled": true
   },
   "outputs": [],
   "source": [
    "# Load the dataset into a dataframe\n",
    "df = pd.read_csv('waze_dataset.csv')"
   ]
  },
  {
   "cell_type": "markdown",
   "metadata": {
    "id": "3mipEiyZx8GI"
   },
   "source": [
    "<img src=\"images/Analyze.png\" width=\"100\" height=\"100\" align=left>\n",
    "\n",
    "## **PACE: Analyze**\n",
    "\n",
    "Consider the questions in your PACE Strategy Document and those below where applicable to complete your code:\n",
    "1. Does the data need to be restructured or converted into usable formats?\n",
    "\n",
    "2. Are there any variables that have missing data?\n"
   ]
  },
  {
   "cell_type": "markdown",
   "metadata": {
    "id": "VZiH_pEMNm_M"
   },
   "source": [
    "1. The data is already in a structured format.\n",
    "2. Yes, 'label' column has 700 missing values. Other variables have no missing values."
   ]
  },
  {
   "cell_type": "markdown",
   "metadata": {
    "id": "n09krlKWRw_2"
   },
   "source": [
    "### **Task 2. Data exploration and cleaning**\n",
    "\n",
    "Consider the following questions:\n",
    "\n",
    "\n",
    "\n",
    "1.  Given the scenario, which data columns are most applicable?\n",
    "\n",
    "2.  Which data columns can you eliminate, knowing they won’t solve your problem scenario?\n",
    "\n",
    "3.  How would you check for missing data? And how would you handle missing data (if any)?\n",
    "\n",
    "4.  How would you check for outliers? And how would handle outliers (if any)?\n",
    "\n",
    "\n",
    "\n",
    "\n",
    "\n"
   ]
  },
  {
   "cell_type": "markdown",
   "metadata": {
    "id": "WQDcGzfANuSe"
   },
   "source": [
    "1. Since the goal is to investigate user churn, the 'label' column is essential. All other variables except ID tie to user behaviors are most applicable. \n",
    "2. 'ID' columns can be eliminated from the analysis since we are not interested in identifying a particular user.\n",
    "3. To check for missing data, we can use df.info() and inspect the Non-Null Count column. The difference between the number of non-nulls and the number of rows in the data is the number of missing values for the variable.\n",
    "We can remove the rows with missing values if the missing data are missing completely at random, meaning that the reason for missingness is independent of the data values themselves, Otherwise, we need to investigate the root cause of the missingness and make sure it won’t interfere with the statistical inference and modeling.\n",
    "4. We can identify outliers by comparing the mean and median of the variable, or use boxplot to visualize the distribution of the data. We can put a cap on the value of the outliers, or removing rows with outliers from the analysis."
   ]
  },
  {
   "cell_type": "markdown",
   "metadata": {
    "id": "uk6zuv_mUU2k"
   },
   "source": [
    "#### **Data overview and summary statistics**\n",
    "\n",
    "Use the following methods and attributes on the dataframe:\n",
    "\n",
    "* `head()`\n",
    "* `size`\n",
    "* `describe()`\n",
    "* `info()`\n",
    "\n",
    "It's always helpful to have this information at the beginning of a project, where you can always refer back to if needed."
   ]
  },
  {
   "cell_type": "code",
   "execution_count": 3,
   "metadata": {
    "id": "cBOUo5p-tbib"
   },
   "outputs": [
    {
     "data": {
      "text/html": [
       "<div>\n",
       "<style scoped>\n",
       "    .dataframe tbody tr th:only-of-type {\n",
       "        vertical-align: middle;\n",
       "    }\n",
       "\n",
       "    .dataframe tbody tr th {\n",
       "        vertical-align: top;\n",
       "    }\n",
       "\n",
       "    .dataframe thead th {\n",
       "        text-align: right;\n",
       "    }\n",
       "</style>\n",
       "<table border=\"1\" class=\"dataframe\">\n",
       "  <thead>\n",
       "    <tr style=\"text-align: right;\">\n",
       "      <th></th>\n",
       "      <th>ID</th>\n",
       "      <th>label</th>\n",
       "      <th>sessions</th>\n",
       "      <th>drives</th>\n",
       "      <th>total_sessions</th>\n",
       "      <th>n_days_after_onboarding</th>\n",
       "      <th>total_navigations_fav1</th>\n",
       "      <th>total_navigations_fav2</th>\n",
       "      <th>driven_km_drives</th>\n",
       "      <th>duration_minutes_drives</th>\n",
       "      <th>activity_days</th>\n",
       "      <th>driving_days</th>\n",
       "      <th>device</th>\n",
       "    </tr>\n",
       "  </thead>\n",
       "  <tbody>\n",
       "    <tr>\n",
       "      <th>0</th>\n",
       "      <td>0</td>\n",
       "      <td>retained</td>\n",
       "      <td>283</td>\n",
       "      <td>226</td>\n",
       "      <td>296.748273</td>\n",
       "      <td>2276</td>\n",
       "      <td>208</td>\n",
       "      <td>0</td>\n",
       "      <td>2628.845068</td>\n",
       "      <td>1985.775061</td>\n",
       "      <td>28</td>\n",
       "      <td>19</td>\n",
       "      <td>Android</td>\n",
       "    </tr>\n",
       "    <tr>\n",
       "      <th>1</th>\n",
       "      <td>1</td>\n",
       "      <td>retained</td>\n",
       "      <td>133</td>\n",
       "      <td>107</td>\n",
       "      <td>326.896596</td>\n",
       "      <td>1225</td>\n",
       "      <td>19</td>\n",
       "      <td>64</td>\n",
       "      <td>13715.920550</td>\n",
       "      <td>3160.472914</td>\n",
       "      <td>13</td>\n",
       "      <td>11</td>\n",
       "      <td>iPhone</td>\n",
       "    </tr>\n",
       "    <tr>\n",
       "      <th>2</th>\n",
       "      <td>2</td>\n",
       "      <td>retained</td>\n",
       "      <td>114</td>\n",
       "      <td>95</td>\n",
       "      <td>135.522926</td>\n",
       "      <td>2651</td>\n",
       "      <td>0</td>\n",
       "      <td>0</td>\n",
       "      <td>3059.148818</td>\n",
       "      <td>1610.735904</td>\n",
       "      <td>14</td>\n",
       "      <td>8</td>\n",
       "      <td>Android</td>\n",
       "    </tr>\n",
       "    <tr>\n",
       "      <th>3</th>\n",
       "      <td>3</td>\n",
       "      <td>retained</td>\n",
       "      <td>49</td>\n",
       "      <td>40</td>\n",
       "      <td>67.589221</td>\n",
       "      <td>15</td>\n",
       "      <td>322</td>\n",
       "      <td>7</td>\n",
       "      <td>913.591123</td>\n",
       "      <td>587.196542</td>\n",
       "      <td>7</td>\n",
       "      <td>3</td>\n",
       "      <td>iPhone</td>\n",
       "    </tr>\n",
       "    <tr>\n",
       "      <th>4</th>\n",
       "      <td>4</td>\n",
       "      <td>retained</td>\n",
       "      <td>84</td>\n",
       "      <td>68</td>\n",
       "      <td>168.247020</td>\n",
       "      <td>1562</td>\n",
       "      <td>166</td>\n",
       "      <td>5</td>\n",
       "      <td>3950.202008</td>\n",
       "      <td>1219.555924</td>\n",
       "      <td>27</td>\n",
       "      <td>18</td>\n",
       "      <td>Android</td>\n",
       "    </tr>\n",
       "  </tbody>\n",
       "</table>\n",
       "</div>"
      ],
      "text/plain": [
       "   ID     label  sessions  drives  total_sessions  n_days_after_onboarding  \\\n",
       "0   0  retained       283     226      296.748273                     2276   \n",
       "1   1  retained       133     107      326.896596                     1225   \n",
       "2   2  retained       114      95      135.522926                     2651   \n",
       "3   3  retained        49      40       67.589221                       15   \n",
       "4   4  retained        84      68      168.247020                     1562   \n",
       "\n",
       "   total_navigations_fav1  total_navigations_fav2  driven_km_drives  \\\n",
       "0                     208                       0       2628.845068   \n",
       "1                      19                      64      13715.920550   \n",
       "2                       0                       0       3059.148818   \n",
       "3                     322                       7        913.591123   \n",
       "4                     166                       5       3950.202008   \n",
       "\n",
       "   duration_minutes_drives  activity_days  driving_days   device  \n",
       "0              1985.775061             28            19  Android  \n",
       "1              3160.472914             13            11   iPhone  \n",
       "2              1610.735904             14             8  Android  \n",
       "3               587.196542              7             3   iPhone  \n",
       "4              1219.555924             27            18  Android  "
      ]
     },
     "execution_count": 3,
     "metadata": {},
     "output_type": "execute_result"
    }
   ],
   "source": [
    "### YOUR CODE HERE ###\n",
    "df.head()"
   ]
  },
  {
   "cell_type": "code",
   "execution_count": 4,
   "metadata": {
    "id": "S3tza5fNfIMo"
   },
   "outputs": [
    {
     "data": {
      "text/plain": [
       "194987"
      ]
     },
     "execution_count": 4,
     "metadata": {},
     "output_type": "execute_result"
    }
   ],
   "source": [
    "### YOUR CODE HERE ###\n",
    "df.shape\n",
    "df.size"
   ]
  },
  {
   "cell_type": "markdown",
   "metadata": {
    "id": "WulP4lZ9UVgy"
   },
   "source": [
    "Generate summary statistics using the `describe()` method."
   ]
  },
  {
   "cell_type": "code",
   "execution_count": 5,
   "metadata": {
    "id": "fhPkaaqDR99b"
   },
   "outputs": [
    {
     "data": {
      "text/html": [
       "<div>\n",
       "<style scoped>\n",
       "    .dataframe tbody tr th:only-of-type {\n",
       "        vertical-align: middle;\n",
       "    }\n",
       "\n",
       "    .dataframe tbody tr th {\n",
       "        vertical-align: top;\n",
       "    }\n",
       "\n",
       "    .dataframe thead th {\n",
       "        text-align: right;\n",
       "    }\n",
       "</style>\n",
       "<table border=\"1\" class=\"dataframe\">\n",
       "  <thead>\n",
       "    <tr style=\"text-align: right;\">\n",
       "      <th></th>\n",
       "      <th>ID</th>\n",
       "      <th>sessions</th>\n",
       "      <th>drives</th>\n",
       "      <th>total_sessions</th>\n",
       "      <th>n_days_after_onboarding</th>\n",
       "      <th>total_navigations_fav1</th>\n",
       "      <th>total_navigations_fav2</th>\n",
       "      <th>driven_km_drives</th>\n",
       "      <th>duration_minutes_drives</th>\n",
       "      <th>activity_days</th>\n",
       "      <th>driving_days</th>\n",
       "    </tr>\n",
       "  </thead>\n",
       "  <tbody>\n",
       "    <tr>\n",
       "      <th>count</th>\n",
       "      <td>14999.000000</td>\n",
       "      <td>14999.000000</td>\n",
       "      <td>14999.000000</td>\n",
       "      <td>14999.000000</td>\n",
       "      <td>14999.000000</td>\n",
       "      <td>14999.000000</td>\n",
       "      <td>14999.000000</td>\n",
       "      <td>14999.000000</td>\n",
       "      <td>14999.000000</td>\n",
       "      <td>14999.000000</td>\n",
       "      <td>14999.000000</td>\n",
       "    </tr>\n",
       "    <tr>\n",
       "      <th>mean</th>\n",
       "      <td>7499.000000</td>\n",
       "      <td>80.633776</td>\n",
       "      <td>67.281152</td>\n",
       "      <td>189.964447</td>\n",
       "      <td>1749.837789</td>\n",
       "      <td>121.605974</td>\n",
       "      <td>29.672512</td>\n",
       "      <td>4039.340921</td>\n",
       "      <td>1860.976012</td>\n",
       "      <td>15.537102</td>\n",
       "      <td>12.179879</td>\n",
       "    </tr>\n",
       "    <tr>\n",
       "      <th>std</th>\n",
       "      <td>4329.982679</td>\n",
       "      <td>80.699065</td>\n",
       "      <td>65.913872</td>\n",
       "      <td>136.405128</td>\n",
       "      <td>1008.513876</td>\n",
       "      <td>148.121544</td>\n",
       "      <td>45.394651</td>\n",
       "      <td>2502.149334</td>\n",
       "      <td>1446.702288</td>\n",
       "      <td>9.004655</td>\n",
       "      <td>7.824036</td>\n",
       "    </tr>\n",
       "    <tr>\n",
       "      <th>min</th>\n",
       "      <td>0.000000</td>\n",
       "      <td>0.000000</td>\n",
       "      <td>0.000000</td>\n",
       "      <td>0.220211</td>\n",
       "      <td>4.000000</td>\n",
       "      <td>0.000000</td>\n",
       "      <td>0.000000</td>\n",
       "      <td>60.441250</td>\n",
       "      <td>18.282082</td>\n",
       "      <td>0.000000</td>\n",
       "      <td>0.000000</td>\n",
       "    </tr>\n",
       "    <tr>\n",
       "      <th>25%</th>\n",
       "      <td>3749.500000</td>\n",
       "      <td>23.000000</td>\n",
       "      <td>20.000000</td>\n",
       "      <td>90.661156</td>\n",
       "      <td>878.000000</td>\n",
       "      <td>9.000000</td>\n",
       "      <td>0.000000</td>\n",
       "      <td>2212.600607</td>\n",
       "      <td>835.996260</td>\n",
       "      <td>8.000000</td>\n",
       "      <td>5.000000</td>\n",
       "    </tr>\n",
       "    <tr>\n",
       "      <th>50%</th>\n",
       "      <td>7499.000000</td>\n",
       "      <td>56.000000</td>\n",
       "      <td>48.000000</td>\n",
       "      <td>159.568115</td>\n",
       "      <td>1741.000000</td>\n",
       "      <td>71.000000</td>\n",
       "      <td>9.000000</td>\n",
       "      <td>3493.858085</td>\n",
       "      <td>1478.249859</td>\n",
       "      <td>16.000000</td>\n",
       "      <td>12.000000</td>\n",
       "    </tr>\n",
       "    <tr>\n",
       "      <th>75%</th>\n",
       "      <td>11248.500000</td>\n",
       "      <td>112.000000</td>\n",
       "      <td>93.000000</td>\n",
       "      <td>254.192341</td>\n",
       "      <td>2623.500000</td>\n",
       "      <td>178.000000</td>\n",
       "      <td>43.000000</td>\n",
       "      <td>5289.861262</td>\n",
       "      <td>2464.362632</td>\n",
       "      <td>23.000000</td>\n",
       "      <td>19.000000</td>\n",
       "    </tr>\n",
       "    <tr>\n",
       "      <th>max</th>\n",
       "      <td>14998.000000</td>\n",
       "      <td>743.000000</td>\n",
       "      <td>596.000000</td>\n",
       "      <td>1216.154633</td>\n",
       "      <td>3500.000000</td>\n",
       "      <td>1236.000000</td>\n",
       "      <td>415.000000</td>\n",
       "      <td>21183.401890</td>\n",
       "      <td>15851.727160</td>\n",
       "      <td>31.000000</td>\n",
       "      <td>30.000000</td>\n",
       "    </tr>\n",
       "  </tbody>\n",
       "</table>\n",
       "</div>"
      ],
      "text/plain": [
       "                 ID      sessions        drives  total_sessions  \\\n",
       "count  14999.000000  14999.000000  14999.000000    14999.000000   \n",
       "mean    7499.000000     80.633776     67.281152      189.964447   \n",
       "std     4329.982679     80.699065     65.913872      136.405128   \n",
       "min        0.000000      0.000000      0.000000        0.220211   \n",
       "25%     3749.500000     23.000000     20.000000       90.661156   \n",
       "50%     7499.000000     56.000000     48.000000      159.568115   \n",
       "75%    11248.500000    112.000000     93.000000      254.192341   \n",
       "max    14998.000000    743.000000    596.000000     1216.154633   \n",
       "\n",
       "       n_days_after_onboarding  total_navigations_fav1  \\\n",
       "count             14999.000000            14999.000000   \n",
       "mean               1749.837789              121.605974   \n",
       "std                1008.513876              148.121544   \n",
       "min                   4.000000                0.000000   \n",
       "25%                 878.000000                9.000000   \n",
       "50%                1741.000000               71.000000   \n",
       "75%                2623.500000              178.000000   \n",
       "max                3500.000000             1236.000000   \n",
       "\n",
       "       total_navigations_fav2  driven_km_drives  duration_minutes_drives  \\\n",
       "count            14999.000000      14999.000000             14999.000000   \n",
       "mean                29.672512       4039.340921              1860.976012   \n",
       "std                 45.394651       2502.149334              1446.702288   \n",
       "min                  0.000000         60.441250                18.282082   \n",
       "25%                  0.000000       2212.600607               835.996260   \n",
       "50%                  9.000000       3493.858085              1478.249859   \n",
       "75%                 43.000000       5289.861262              2464.362632   \n",
       "max                415.000000      21183.401890             15851.727160   \n",
       "\n",
       "       activity_days  driving_days  \n",
       "count   14999.000000  14999.000000  \n",
       "mean       15.537102     12.179879  \n",
       "std         9.004655      7.824036  \n",
       "min         0.000000      0.000000  \n",
       "25%         8.000000      5.000000  \n",
       "50%        16.000000     12.000000  \n",
       "75%        23.000000     19.000000  \n",
       "max        31.000000     30.000000  "
      ]
     },
     "execution_count": 5,
     "metadata": {},
     "output_type": "execute_result"
    }
   ],
   "source": [
    "### YOUR CODE HERE ###\n",
    "df.describe()"
   ]
  },
  {
   "cell_type": "markdown",
   "metadata": {
    "id": "psmn0VD0UWBk"
   },
   "source": [
    "And summary information using the `info()` method."
   ]
  },
  {
   "cell_type": "code",
   "execution_count": 6,
   "metadata": {
    "id": "Thlb8oiyUPwe"
   },
   "outputs": [
    {
     "name": "stdout",
     "output_type": "stream",
     "text": [
      "<class 'pandas.core.frame.DataFrame'>\n",
      "RangeIndex: 14999 entries, 0 to 14998\n",
      "Data columns (total 13 columns):\n",
      " #   Column                   Non-Null Count  Dtype  \n",
      "---  ------                   --------------  -----  \n",
      " 0   ID                       14999 non-null  int64  \n",
      " 1   label                    14299 non-null  object \n",
      " 2   sessions                 14999 non-null  int64  \n",
      " 3   drives                   14999 non-null  int64  \n",
      " 4   total_sessions           14999 non-null  float64\n",
      " 5   n_days_after_onboarding  14999 non-null  int64  \n",
      " 6   total_navigations_fav1   14999 non-null  int64  \n",
      " 7   total_navigations_fav2   14999 non-null  int64  \n",
      " 8   driven_km_drives         14999 non-null  float64\n",
      " 9   duration_minutes_drives  14999 non-null  float64\n",
      " 10  activity_days            14999 non-null  int64  \n",
      " 11  driving_days             14999 non-null  int64  \n",
      " 12  device                   14999 non-null  object \n",
      "dtypes: float64(3), int64(8), object(2)\n",
      "memory usage: 1.5+ MB\n"
     ]
    }
   ],
   "source": [
    "### YOUR CODE HERE ###\n",
    "df.info()"
   ]
  },
  {
   "cell_type": "markdown",
   "metadata": {
    "id": "f0sHpfkhx8GM"
   },
   "source": [
    "<img src=\"images/Construct.png\" width=\"100\" height=\"100\" align=left>\n",
    "\n",
    "## **PACE: Construct**\n",
    "\n",
    "Consider the questions in your PACE Strategy Document to reflect on the Construct stage."
   ]
  },
  {
   "cell_type": "markdown",
   "metadata": {
    "id": "zXjMMPoARVPm"
   },
   "source": [
    "Consider the following questions as you prepare to deal with outliers:\n",
    "\n",
    "1.   What are some ways to identify outliers?\n",
    "2.   How do you make the decision to keep or exclude outliers from any future models?"
   ]
  },
  {
   "cell_type": "markdown",
   "metadata": {
    "id": "AHln5I2ERjAn"
   },
   "source": [
    "1. We can use numpy functions to investigate the mean() and median() of the data and understand range of data values, or use a boxplot to visualize the distribution of the data\n",
    "2. There are three main options for dealing with outliers: keeping them as they are, deleting them, or reassigning them. \n",
    "– Delete them: If unsure about the outliers are mistakes, typos, or errors and the dataset will be used for modeling or machine learning, then it is more likely to decide to delete outliers. \n",
    "– Reassign them: If the dataset is small and/or the data will be used for modeling or machine learning, it is more likely to choose a path of deriving new values to replace the outlier values.\n",
    "– Leave them: For a dataset that planned to do EDA/analysis on and nothing else, or for a dataset preparing for a model that is resistant to outliers, it is most likely to leave them in.\n"
   ]
  },
  {
   "cell_type": "markdown",
   "metadata": {
    "id": "BYWkZ4i3wgv4"
   },
   "source": [
    "### **Task 3a. Visualizations**\n",
    "\n",
    "Select data visualization types that will help you understand and explain the data.\n",
    "\n",
    "Now that you know which data columns you’ll use, it is time to decide which data visualization makes the most sense for EDA of the Waze dataset.\n",
    "\n",
    "**Question:** What type of data visualization(s) will be most helpful?\n",
    "\n",
    "* Line graph\n",
    "* Bar chart\n",
    "* Box plot\n",
    "* Histogram\n",
    "* Heat map\n",
    "* Scatter plot\n",
    "* A geographic map\n",
    "\n"
   ]
  },
  {
   "cell_type": "markdown",
   "metadata": {
    "id": "rYYgT9kMQiNF"
   },
   "source": [
    "Box plots will be helpful to determine outliers, while histograms are essential to understand the distribution of variables"
   ]
  },
  {
   "cell_type": "markdown",
   "metadata": {
    "id": "TuWr3WWPQsi0"
   },
   "source": [
    "Begin by examining the spread and distribution of important variables using box plots and histograms."
   ]
  },
  {
   "cell_type": "markdown",
   "metadata": {
    "id": "5-vBw2wpSn0g"
   },
   "source": [
    "#### **`sessions`**\n",
    "\n",
    "_The number of occurrence of a user opening the app during the month_"
   ]
  },
  {
   "cell_type": "code",
   "execution_count": 7,
   "metadata": {
    "id": "9K6Alb7uc9my"
   },
   "outputs": [
    {
     "data": {
      "image/png": "[encoded data removed]",
      "text/plain": [
       "<Figure size 432x288 with 1 Axes>"
      ]
     },
     "metadata": {
      "needs_background": "light"
     },
     "output_type": "display_data"
    }
   ],
   "source": [
    "# Box plot\n",
    "### YOUR CODE HERE ###\n",
    "sns.boxplot(x=df['sessions'])\n",
    "plt.show()"
   ]
  },
  {
   "cell_type": "code",
   "execution_count": 8,
   "metadata": {
    "id": "1YC9xCrrcvw-"
   },
   "outputs": [
    {
     "data": {
      "image/png": "[encoded data removed]",
      "text/plain": [
       "<Figure size 432x288 with 1 Axes>"
      ]
     },
     "metadata": {
      "needs_background": "light"
     },
     "output_type": "display_data"
    }
   ],
   "source": [
    "# Histogram\n",
    "### YOUR CODE HERE ###\n",
    "#plt.hist(df['sessions'])\n",
    "sns.histplot(df['sessions'])\n",
    "plt.show()"
   ]
  },
  {
   "cell_type": "markdown",
   "metadata": {
    "id": "PKnZDIgDS2gV"
   },
   "source": [
    "The `sessions` variable is a right-skewed distribution with half of the observations having 56 or fewer sessions. However, as indicated by the boxplot, some users have more than 700."
   ]
  },
  {
   "cell_type": "markdown",
   "metadata": {
    "id": "VSBCTrrjdpnn"
   },
   "source": [
    "#### **`drives`**\n",
    "\n",
    "_An occurrence of driving at least 1 km during the month_"
   ]
  },
  {
   "cell_type": "code",
   "execution_count": 9,
   "metadata": {
    "id": "WKEGh-a3yF9K"
   },
   "outputs": [
    {
     "data": {
      "text/plain": [
       "<matplotlib.axes._subplots.AxesSubplot at 0x7f1001ca7d50>"
      ]
     },
     "execution_count": 9,
     "metadata": {},
     "output_type": "execute_result"
    },
    {
     "data": {
      "image/png": "[encoded data removed]",
      "text/plain": [
       "<Figure size 432x288 with 1 Axes>"
      ]
     },
     "metadata": {
      "needs_background": "light"
     },
     "output_type": "display_data"
    }
   ],
   "source": [
    "# Box plot\n",
    "### YOUR CODE HERE ###\n",
    "#plt.boxplot(df[df['drives'] > 0])\n",
    "#plt.show()\n",
    "df_drives = df[df['drives'] > 0]\n",
    "sns.boxplot(data=df_drives,x='drives')"
   ]
  },
  {
   "cell_type": "code",
   "execution_count": 10,
   "metadata": {
    "id": "NtpxgGQpQ7g9"
   },
   "outputs": [
    {
     "data": {
      "image/png": "[encoded data removed]",
      "text/plain": [
       "<Figure size 432x288 with 1 Axes>"
      ]
     },
     "metadata": {
      "needs_background": "light"
     },
     "output_type": "display_data"
    }
   ],
   "source": [
    "# Histogram\n",
    "### YOUR CODE HERE ###\n",
    "sns.histplot(x=df['drives'])\n",
    "plt.show()"
   ]
  },
  {
   "cell_type": "markdown",
   "metadata": {
    "id": "SVhzvyNCedL8"
   },
   "source": [
    "The `drives` information follows a distribution similar to the `sessions` variable. It is right-skewed, approximately log-normal, with a median of 48. However, some drivers had over 400 drives in the last month."
   ]
  },
  {
   "cell_type": "markdown",
   "metadata": {
    "id": "M-RvjOHhehOI"
   },
   "source": [
    "#### **`total_sessions`**\n",
    "\n",
    "_A model estimate of the total number of sessions since a user has onboarded_"
   ]
  },
  {
   "cell_type": "code",
   "execution_count": 11,
   "metadata": {
    "id": "ZCC9MHhOQ7Sc"
   },
   "outputs": [
    {
     "data": {
      "text/plain": [
       "<matplotlib.axes._subplots.AxesSubplot at 0x7f1001bce110>"
      ]
     },
     "execution_count": 11,
     "metadata": {},
     "output_type": "execute_result"
    },
    {
     "data": {
      "image/png": "[encoded data removed]",
      "text/plain": [
       "<Figure size 432x288 with 1 Axes>"
      ]
     },
     "metadata": {
      "needs_background": "light"
     },
     "output_type": "display_data"
    }
   ],
   "source": [
    "# Box plot\n",
    "### YOUR CODE HERE ###\n",
    "sns.boxplot(df['total_sessions'])"
   ]
  },
  {
   "cell_type": "code",
   "execution_count": 12,
   "metadata": {
    "id": "p5-UmoBzdrTW"
   },
   "outputs": [
    {
     "data": {
      "text/plain": [
       "<matplotlib.axes._subplots.AxesSubplot at 0x7f10019ee0d0>"
      ]
     },
     "execution_count": 12,
     "metadata": {},
     "output_type": "execute_result"
    },
    {
     "data": {
      "image/png": "[encoded data removed]",
      "text/plain": [
       "<Figure size 432x288 with 1 Axes>"
      ]
     },
     "metadata": {
      "needs_background": "light"
     },
     "output_type": "display_data"
    }
   ],
   "source": [
    "# Histogram\n",
    "### YOUR CODE HERE ###\n",
    "sns.histplot(df['total_sessions'])"
   ]
  },
  {
   "cell_type": "markdown",
   "metadata": {
    "id": "3i77iZf_etQd"
   },
   "source": [
    "The `total_sessions` is a right-skewed distribution. The median total number of sessions is 159.6. This is interesting information because, if the median number of sessions in the last month was 48 and the median total sessions was ~160, then it seems that a large proportion of a user's total drives might have taken place in the last month. This is something you can examine more closely later."
   ]
  },
  {
   "cell_type": "markdown",
   "metadata": {
    "id": "0sfXzD_eexBm"
   },
   "source": [
    "#### **`n_days_after_onboarding`**\n",
    "\n",
    "_The number of days since a user signed up for the app_"
   ]
  },
  {
   "cell_type": "code",
   "execution_count": 13,
   "metadata": {
    "id": "PGfs6rpEdq-R"
   },
   "outputs": [
    {
     "data": {
      "text/plain": [
       "<matplotlib.axes._subplots.AxesSubplot at 0x7f1001b9d290>"
      ]
     },
     "execution_count": 13,
     "metadata": {},
     "output_type": "execute_result"
    },
    {
     "data": {
      "image/png": "[encoded data removed]",
      "text/plain": [
       "<Figure size 432x288 with 1 Axes>"
      ]
     },
     "metadata": {
      "needs_background": "light"
     },
     "output_type": "display_data"
    }
   ],
   "source": [
    "# Box plot\n",
    "### YOUR CODE HERE ###\n",
    "sns.boxplot(df['n_days_after_onboarding'])"
   ]
  },
  {
   "cell_type": "code",
   "execution_count": 14,
   "metadata": {
    "id": "oqzA9IxRdqr1"
   },
   "outputs": [
    {
     "data": {
      "text/plain": [
       "<matplotlib.axes._subplots.AxesSubplot at 0x7f1001eebc50>"
      ]
     },
     "execution_count": 14,
     "metadata": {},
     "output_type": "execute_result"
    },
    {
     "data": {
      "image/png": "[encoded data removed]",
      "text/plain": [
       "<Figure size 432x288 with 1 Axes>"
      ]
     },
     "metadata": {
      "needs_background": "light"
     },
     "output_type": "display_data"
    }
   ],
   "source": [
    "# Histogram\n",
    "### YOUR CODE HERE ###\n",
    "sns.histplot(df['n_days_after_onboarding'])"
   ]
  },
  {
   "cell_type": "markdown",
   "metadata": {
    "id": "wFNDAX4_e6aT"
   },
   "source": [
    "The total user tenure (i.e., number of days since\n",
    "onboarding) is a uniform distribution with values ranging from near-zero to \\~3,500 (\\~9.5 years)."
   ]
  },
  {
   "cell_type": "markdown",
   "metadata": {
    "id": "x1QO1Id8e7Oj"
   },
   "source": [
    "#### **`driven_km_drives`**\n",
    "\n",
    "_Total kilometers driven during the month_"
   ]
  },
  {
   "cell_type": "code",
   "execution_count": 15,
   "metadata": {
    "id": "JytUB830dv61"
   },
   "outputs": [
    {
     "data": {
      "text/plain": [
       "<matplotlib.axes._subplots.AxesSubplot at 0x7f1001dc64d0>"
      ]
     },
     "execution_count": 15,
     "metadata": {},
     "output_type": "execute_result"
    },
    {
     "data": {
      "image/png": "[encoded data removed]",
      "text/plain": [
       "<Figure size 432x288 with 1 Axes>"
      ]
     },
     "metadata": {
      "needs_background": "light"
     },
     "output_type": "display_data"
    }
   ],
   "source": [
    "# Box plot\n",
    "### YOUR CODE HERE ###\n",
    "sns.boxplot(df['driven_km_drives'])"
   ]
  },
  {
   "cell_type": "code",
   "execution_count": 16,
   "metadata": {
    "id": "X3tD7KmhfBz8"
   },
   "outputs": [
    {
     "data": {
      "text/plain": [
       "<matplotlib.axes._subplots.AxesSubplot at 0x7f1001b85b10>"
      ]
     },
     "execution_count": 16,
     "metadata": {},
     "output_type": "execute_result"
    },
    {
     "data": {
      "image/png": "[encoded data removed]",
      "text/plain": [
       "<Figure size 432x288 with 1 Axes>"
      ]
     },
     "metadata": {
      "needs_background": "light"
     },
     "output_type": "display_data"
    }
   ],
   "source": [
    "# Histogram\n",
    "### YOUR CODE HERE ###\n",
    "sns.histplot(df['driven_km_drives'])"
   ]
  },
  {
   "cell_type": "markdown",
   "metadata": {
    "id": "qmj8rhs1fFsD"
   },
   "source": [
    "The number of drives driven in the last month per user is a right-skewed distribution with half the users driving under 3,495 kilometers. As you discovered in the analysis from the previous course, the users in this dataset drive _a lot_. The longest distance driven in the month was over half the circumferene of the earth."
   ]
  },
  {
   "cell_type": "markdown",
   "metadata": {
    "id": "UUAqCCtTfGbJ"
   },
   "source": [
    "#### **`duration_minutes_drives`**\n",
    "\n",
    "_Total duration driven in minutes during the month_"
   ]
  },
  {
   "cell_type": "code",
   "execution_count": 17,
   "metadata": {
    "id": "ElNBoyu9fG8z"
   },
   "outputs": [
    {
     "data": {
      "text/plain": [
       "<matplotlib.axes._subplots.AxesSubplot at 0x7f1001900110>"
      ]
     },
     "execution_count": 17,
     "metadata": {},
     "output_type": "execute_result"
    },
    {
     "data": {
      "image/png": "[encoded data removed]",
      "text/plain": [
       "<Figure size 432x288 with 1 Axes>"
      ]
     },
     "metadata": {
      "needs_background": "light"
     },
     "output_type": "display_data"
    }
   ],
   "source": [
    "# Box plot\n",
    "### YOUR CODE HERE ###\n",
    "sns.boxplot(df['duration_minutes_drives'])"
   ]
  },
  {
   "cell_type": "code",
   "execution_count": 18,
   "metadata": {
    "id": "7z4ajJJFfHoN"
   },
   "outputs": [
    {
     "data": {
      "text/plain": [
       "<matplotlib.axes._subplots.AxesSubplot at 0x7f10018dc4d0>"
      ]
     },
     "execution_count": 18,
     "metadata": {},
     "output_type": "execute_result"
    },
    {
     "data": {
      "image/png": "[encoded data removed]",
      "text/plain": [
       "<Figure size 432x288 with 1 Axes>"
      ]
     },
     "metadata": {
      "needs_background": "light"
     },
     "output_type": "display_data"
    }
   ],
   "source": [
    "# Histogram\n",
    "### YOUR CODE HERE ###\n",
    "sns.histplot(df['duration_minutes_drives'])"
   ]
  },
  {
   "cell_type": "markdown",
   "metadata": {
    "id": "lXRWnXA5fcmn"
   },
   "source": [
    "The `duration_minutes_drives` variable has a heavily skewed right tail. Half of the users drove less than \\~1,478 minutes (\\~25 hours), but some users clocked over 250 hours over the month."
   ]
  },
  {
   "cell_type": "markdown",
   "metadata": {
    "id": "sJ-5zhujfcXb"
   },
   "source": [
    "#### **`activity_days`**\n",
    "\n",
    "_Number of days the user opens the app during the month_"
   ]
  },
  {
   "cell_type": "code",
   "execution_count": 19,
   "metadata": {
    "id": "rpy9NzemfkDz"
   },
   "outputs": [
    {
     "data": {
      "text/plain": [
       "<matplotlib.axes._subplots.AxesSubplot at 0x7f10016b3e90>"
      ]
     },
     "execution_count": 19,
     "metadata": {},
     "output_type": "execute_result"
    },
    {
     "data": {
      "image/png": "[encoded data removed]",
      "text/plain": [
       "<Figure size 432x288 with 1 Axes>"
      ]
     },
     "metadata": {
      "needs_background": "light"
     },
     "output_type": "display_data"
    }
   ],
   "source": [
    "# Box plot\n",
    "### YOUR CODE HERE ###\n",
    "sns.boxplot(df['activity_days'])"
   ]
  },
  {
   "cell_type": "code",
   "execution_count": 20,
   "metadata": {
    "id": "JTdGJbmffqNK"
   },
   "outputs": [
    {
     "data": {
      "text/plain": [
       "<matplotlib.axes._subplots.AxesSubplot at 0x7f1001694450>"
      ]
     },
     "execution_count": 20,
     "metadata": {},
     "output_type": "execute_result"
    },
    {
     "data": {
      "image/png": "[encoded data removed]",
      "text/plain": [
       "<Figure size 432x288 with 1 Axes>"
      ]
     },
     "metadata": {
      "needs_background": "light"
     },
     "output_type": "display_data"
    }
   ],
   "source": [
    "# Histogram\n",
    "### YOUR CODE HERE ###\n",
    "sns.histplot(df['activity_days'], discrete=True)"
   ]
  },
  {
   "cell_type": "markdown",
   "metadata": {
    "id": "eRkkqv1xfrPN"
   },
   "source": [
    "Within the last month, users opened the app a median of 16 times. The box plot reveals a centered distribution. The histogram shows a nearly uniform distribution of ~500 people opening the app on each count of days. However, there are ~250 people who didn't open the app at all and ~250 people who opened the app every day of the month.\n",
    "\n",
    "This distribution is noteworthy because it does not mirror the `sessions` distribution, which you might think would be closely correlated with `activity_days`."
   ]
  },
  {
   "cell_type": "markdown",
   "metadata": {
    "id": "fbbqVbBFfrBP"
   },
   "source": [
    "#### **`driving_days`**\n",
    "\n",
    "_Number of days the user drives (at least 1 km) during the month_"
   ]
  },
  {
   "cell_type": "code",
   "execution_count": 21,
   "metadata": {
    "id": "hhn-402gf3ff"
   },
   "outputs": [
    {
     "data": {
      "text/plain": [
       "<matplotlib.axes._subplots.AxesSubplot at 0x7f100178fd10>"
      ]
     },
     "execution_count": 21,
     "metadata": {},
     "output_type": "execute_result"
    },
    {
     "data": {
      "image/png": "[encoded data removed]",
      "text/plain": [
       "<Figure size 432x288 with 1 Axes>"
      ]
     },
     "metadata": {
      "needs_background": "light"
     },
     "output_type": "display_data"
    }
   ],
   "source": [
    "# Box plot\n",
    "### YOUR CODE HERE ###\n",
    "sns.boxplot(df['driving_days'])"
   ]
  },
  {
   "cell_type": "code",
   "execution_count": 22,
   "metadata": {
    "id": "Yi9bkUS2f37N"
   },
   "outputs": [
    {
     "data": {
      "text/plain": [
       "<matplotlib.axes._subplots.AxesSubplot at 0x7f1001d666d0>"
      ]
     },
     "execution_count": 22,
     "metadata": {},
     "output_type": "execute_result"
    },
    {
     "data": {
      "image/png": "[encoded data removed]",
      "text/plain": [
       "<Figure size 432x288 with 1 Axes>"
      ]
     },
     "metadata": {
      "needs_background": "light"
     },
     "output_type": "display_data"
    }
   ],
   "source": [
    "# Histogram\n",
    "### YOUR CODE HERE ###\n",
    "sns.histplot(df['driving_days'], discrete=True)"
   ]
  },
  {
   "cell_type": "markdown",
   "metadata": {
    "id": "I2p_HuzRf4Xo"
   },
   "source": [
    "The number of days users drove each month is almost uniform, and it largely correlates with the number of days they opened the app that month, except the `driving_days` distribution tails off on the right.\n",
    "\n",
    "However, there were almost twice as many users (\\~1,000 vs. \\~550) who did not drive at all during the month. This might seem counterintuitive when considered together with the information from `activity_days`. That variable had \\~500 users opening the app on each of most of the day counts, but there were only \\~250 users who did not open the app at all during the month and ~250 users who opened the app every day. Flag this for further investigation later."
   ]
  },
  {
   "cell_type": "markdown",
   "metadata": {
    "id": "-TmcckFcgDLK"
   },
   "source": [
    "#### **`device`**\n",
    "\n",
    "_The type of device a user starts a session with_\n",
    "\n",
    "This is a categorical variable, so you do not plot a box plot for it. A good plot for a binary categorical variable is a pie chart."
   ]
  },
  {
   "cell_type": "code",
   "execution_count": 23,
   "metadata": {
    "id": "evNrxWWQgDuN"
   },
   "outputs": [
    {
     "data": {
      "text/plain": [
       "([<matplotlib.patches.Wedge at 0x7f100149d790>,\n",
       "  <matplotlib.patches.Wedge at 0x7f100149df50>],\n",
       " [Text(-0.48344574542824464, 0.9880689304027979, 'Android'),\n",
       "  Text(0.483445745428245, -0.9880689304027978, 'iPhone')],\n",
       " [Text(-0.26369767932449706, 0.538946689310617, '64.5%'),\n",
       "  Text(0.2636976793244972, -0.5389466893106168, '35.5%')])"
      ]
     },
     "execution_count": 23,
     "metadata": {},
     "output_type": "execute_result"
    },
    {
     "data": {
      "image/png": "[encoded data removed]",
      "text/plain": [
       "<Figure size 432x288 with 1 Axes>"
      ]
     },
     "metadata": {},
     "output_type": "display_data"
    }
   ],
   "source": [
    "# Pie chart\n",
    "### YOUR CODE HERE ###\n",
    "labels = ['Android', 'iPhone']\n",
    "sizes = df['device'].value_counts()\n",
    "fig, ax = plt.subplots()\n",
    "ax.pie(sizes, labels=labels, autopct='%1.1f%%')"
   ]
  },
  {
   "cell_type": "markdown",
   "metadata": {
    "id": "m7NuKItJgEh2"
   },
   "source": [
    "There are nearly twice as many iPhone users as Android users represented in this data."
   ]
  },
  {
   "cell_type": "markdown",
   "metadata": {
    "id": "VJH5j71RgViQ"
   },
   "source": [
    "#### **`label`**\n",
    "\n",
    "_Binary target variable (“retained” vs “churned”) for if a user has churned anytime during the course of the month_\n",
    "\n",
    "This is also a categorical variable, and as such would not be plotted as a box plot. Plot a pie chart instead."
   ]
  },
  {
   "cell_type": "code",
   "execution_count": 24,
   "metadata": {
    "id": "MQ1nVQIBgWOv"
   },
   "outputs": [
    {
     "data": {
      "text/plain": [
       "([<matplotlib.patches.Wedge at 0x7f10013f0390>,\n",
       "  <matplotlib.patches.Wedge at 0x7f10013f0b10>],\n",
       " [Text(-0.9336262095053529, 0.5816718154807461, 'retained'),\n",
       "  Text(0.9336262367353746, -0.5816717717745484, 'churned')],\n",
       " [Text(-0.5092506597301925, 0.31727553571677053, '82.3%'),\n",
       "  Text(0.5092506745829316, -0.31727551187702635, '17.7%')])"
      ]
     },
     "execution_count": 24,
     "metadata": {},
     "output_type": "execute_result"
    },
    {
     "data": {
      "image/png": "[encoded data removed]",
      "text/plain": [
       "<Figure size 432x288 with 1 Axes>"
      ]
     },
     "metadata": {},
     "output_type": "display_data"
    }
   ],
   "source": [
    "# Pie chart\n",
    "### YOUR CODE HERE ###\n",
    "labels = ['retained', 'churned']\n",
    "sizes = df['label'].value_counts()\n",
    "fig, ax = plt.subplots()\n",
    "ax.pie(sizes, labels=labels, autopct='%1.1f%%')"
   ]
  },
  {
   "cell_type": "markdown",
   "metadata": {
    "id": "cmM8NrSYghlg"
   },
   "source": [
    "Less than 18% of the users churned."
   ]
  },
  {
   "cell_type": "markdown",
   "metadata": {
    "id": "cRsY_TYPgik5"
   },
   "source": [
    "#### **`driving_days` vs. `activity_days`**\n",
    "\n",
    "Because both `driving_days` and `activity_days` represent counts of days over a month and they're also closely related, you can plot them together on a single histogram. This will help to better understand how they relate to each other without having to scroll back and forth comparing histograms in two different places.\n",
    "\n",
    "Plot a histogram that, for each day, has a bar representing the counts of `driving_days` and `activity_days`."
   ]
  },
  {
   "cell_type": "code",
   "execution_count": 25,
   "metadata": {
    "id": "Ly1sNysEgjFc"
   },
   "outputs": [
    {
     "data": {
      "text/plain": [
       "<matplotlib.legend.Legend at 0x7f1001409490>"
      ]
     },
     "execution_count": 25,
     "metadata": {},
     "output_type": "execute_result"
    },
    {
     "data": {
      "image/png": "[encoded data removed]",
      "text/plain": [
       "<Figure size 432x288 with 1 Axes>"
      ]
     },
     "metadata": {
      "needs_background": "light"
     },
     "output_type": "display_data"
    }
   ],
   "source": [
    "# Histogram\n",
    "### YOUR CODE HERE ###\n",
    "#fig, axs = plt.subplots(1, 2, sharey=True, tight_layout=True)\n",
    "#axs[0].hist(df['driving_days'])\n",
    "#axs[1].hist(df['activity_days'])\n",
    "plt.hist([df['driving_days'], df['activity_days']],\n",
    "        bins=range(0,32),\n",
    "        label=['Driving Days','Activity Days']\n",
    "        )\n",
    "plt.legend()"
   ]
  },
  {
   "cell_type": "markdown",
   "metadata": {
    "id": "8kQS1OzIgzhF"
   },
   "source": [
    "As observed previously, this might seem counterintuitive. After all, why are there _fewer_ people who didn't use the app at all during the month and _more_ people who didn't drive at all during the month?\n",
    "\n",
    "On the other hand, it could just be illustrative of the fact that, while these variables are related to each other, they're not the same. People probably just open the app more than they use the app to drive&mdash;perhaps to check drive times or route information, to update settings, or even just by mistake.\n",
    "\n",
    "Nonetheless, it might be worthwile to contact the data team at Waze to get more information about this, especially because it seems that the number of days in the month is not the same between variables.\n",
    "\n",
    "Confirm the maximum number of days for each variable&mdash;`driving_days` and `activity_days`."
   ]
  },
  {
   "cell_type": "code",
   "execution_count": 26,
   "metadata": {
    "id": "ZY266xXxg-rO"
   },
   "outputs": [
    {
     "name": "stdout",
     "output_type": "stream",
     "text": [
      "30\n",
      "31\n"
     ]
    }
   ],
   "source": [
    "### YOUR CODE HERE ###\n",
    "print(df['driving_days'].max())\n",
    "print(df['activity_days'].max())"
   ]
  },
  {
   "cell_type": "markdown",
   "metadata": {
    "id": "oBEq9YwChEGx"
   },
   "source": [
    "It's true. Although it's possible that not a single user drove all 31 days of the month, it's highly unlikely, considering there are 15,000 people represented in the dataset.\n",
    "\n",
    "One other way to check the validity of these variables is to plot a simple scatter plot with the x-axis representing one variable and the y-axis representing the other."
   ]
  },
  {
   "cell_type": "code",
   "execution_count": 27,
   "metadata": {
    "id": "I4VMyxguhFBV"
   },
   "outputs": [
    {
     "data": {
      "image/png": "[encoded data removed]",
      "text/plain": [
       "<Figure size 432x288 with 1 Axes>"
      ]
     },
     "metadata": {
      "needs_background": "light"
     },
     "output_type": "display_data"
    }
   ],
   "source": [
    "# Scatter plot\n",
    "### YOUR CODE HERE ###\n",
    "sns.scatterplot('driving_days', 'activity_days', data=df)\n",
    "plt.xlabel('Driving Days')\n",
    "plt.ylabel('Activity Days')\n",
    "plt.show()"
   ]
  },
  {
   "cell_type": "markdown",
   "metadata": {
    "id": "DWO3ljhFhG-e"
   },
   "source": [
    "Notice that there is a theoretical limit. If you use the app to drive, then by definition it must count as a day-use as well. In other words, you cannot have more drive-days than activity-days. None of the samples in this data violate this rule, which is good."
   ]
  },
  {
   "cell_type": "markdown",
   "metadata": {
    "id": "bcZkCH5WhVfE"
   },
   "source": [
    "#### **Retention by device**\n",
    "\n",
    "Plot a histogram that has four bars&mdash;one for each device-label combination&mdash;to show how many iPhone users were retained/churned and how many Android users were retained/churned."
   ]
  },
  {
   "cell_type": "code",
   "execution_count": 28,
   "metadata": {
    "id": "75uHBjB1hZIl"
   },
   "outputs": [
    {
     "data": {
      "text/plain": [
       "<matplotlib.axes._subplots.AxesSubplot at 0x7f1001247dd0>"
      ]
     },
     "execution_count": 28,
     "metadata": {},
     "output_type": "execute_result"
    },
    {
     "data": {
      "image/png": "[encoded data removed]",
      "text/plain": [
       "<Figure size 432x288 with 1 Axes>"
      ]
     },
     "metadata": {
      "needs_background": "light"
     },
     "output_type": "display_data"
    }
   ],
   "source": [
    "# Histogram\n",
    "### YOUR CODE HERE ###\n",
    "sns.histplot(data=df,\n",
    "            x='device',\n",
    "            hue='label',\n",
    "            multiple='dodge',\n",
    "            shrink=0.9\n",
    "            )\n"
   ]
  },
  {
   "cell_type": "markdown",
   "metadata": {
    "id": "sVOvIbG-hZg-"
   },
   "source": [
    "The proportion of churned users to retained users is consistent between device types."
   ]
  },
  {
   "cell_type": "markdown",
   "metadata": {
    "id": "TMYRLh8EhhuK"
   },
   "source": [
    "#### **Retention by kilometers driven per driving day**\n",
    "\n",
    "In the previous course, you discovered that the median distance driven last month for users who churned was 8.33 km, versus 3.36 km for people who did not churn. Examine this further.\n",
    "\n",
    "1. Create a new column in `df` called `km_per_driving_day`, which represents the mean distance driven per driving day for each user.\n",
    "\n",
    "2. Call the `describe()` method on the new column."
   ]
  },
  {
   "cell_type": "code",
   "execution_count": 29,
   "metadata": {
    "id": "6IONTyaHhipo"
   },
   "outputs": [
    {
     "data": {
      "text/html": [
       "<div>\n",
       "<style scoped>\n",
       "    .dataframe tbody tr th:only-of-type {\n",
       "        vertical-align: middle;\n",
       "    }\n",
       "\n",
       "    .dataframe tbody tr th {\n",
       "        vertical-align: top;\n",
       "    }\n",
       "\n",
       "    .dataframe thead th {\n",
       "        text-align: right;\n",
       "    }\n",
       "</style>\n",
       "<table border=\"1\" class=\"dataframe\">\n",
       "  <thead>\n",
       "    <tr style=\"text-align: right;\">\n",
       "      <th></th>\n",
       "      <th>ID</th>\n",
       "      <th>sessions</th>\n",
       "      <th>drives</th>\n",
       "      <th>total_sessions</th>\n",
       "      <th>n_days_after_onboarding</th>\n",
       "      <th>total_navigations_fav1</th>\n",
       "      <th>total_navigations_fav2</th>\n",
       "      <th>driven_km_drives</th>\n",
       "      <th>duration_minutes_drives</th>\n",
       "      <th>activity_days</th>\n",
       "      <th>driving_days</th>\n",
       "      <th>km_per_driving_day</th>\n",
       "    </tr>\n",
       "  </thead>\n",
       "  <tbody>\n",
       "    <tr>\n",
       "      <th>count</th>\n",
       "      <td>14999.000000</td>\n",
       "      <td>14999.000000</td>\n",
       "      <td>14999.000000</td>\n",
       "      <td>14999.000000</td>\n",
       "      <td>14999.000000</td>\n",
       "      <td>14999.000000</td>\n",
       "      <td>14999.000000</td>\n",
       "      <td>14999.000000</td>\n",
       "      <td>14999.000000</td>\n",
       "      <td>14999.000000</td>\n",
       "      <td>14999.000000</td>\n",
       "      <td>1.499900e+04</td>\n",
       "    </tr>\n",
       "    <tr>\n",
       "      <th>mean</th>\n",
       "      <td>7499.000000</td>\n",
       "      <td>80.633776</td>\n",
       "      <td>67.281152</td>\n",
       "      <td>189.964447</td>\n",
       "      <td>1749.837789</td>\n",
       "      <td>121.605974</td>\n",
       "      <td>29.672512</td>\n",
       "      <td>4039.340921</td>\n",
       "      <td>1860.976012</td>\n",
       "      <td>15.537102</td>\n",
       "      <td>12.179879</td>\n",
       "      <td>inf</td>\n",
       "    </tr>\n",
       "    <tr>\n",
       "      <th>std</th>\n",
       "      <td>4329.982679</td>\n",
       "      <td>80.699065</td>\n",
       "      <td>65.913872</td>\n",
       "      <td>136.405128</td>\n",
       "      <td>1008.513876</td>\n",
       "      <td>148.121544</td>\n",
       "      <td>45.394651</td>\n",
       "      <td>2502.149334</td>\n",
       "      <td>1446.702288</td>\n",
       "      <td>9.004655</td>\n",
       "      <td>7.824036</td>\n",
       "      <td>NaN</td>\n",
       "    </tr>\n",
       "    <tr>\n",
       "      <th>min</th>\n",
       "      <td>0.000000</td>\n",
       "      <td>0.000000</td>\n",
       "      <td>0.000000</td>\n",
       "      <td>0.220211</td>\n",
       "      <td>4.000000</td>\n",
       "      <td>0.000000</td>\n",
       "      <td>0.000000</td>\n",
       "      <td>60.441250</td>\n",
       "      <td>18.282082</td>\n",
       "      <td>0.000000</td>\n",
       "      <td>0.000000</td>\n",
       "      <td>3.022063e+00</td>\n",
       "    </tr>\n",
       "    <tr>\n",
       "      <th>25%</th>\n",
       "      <td>3749.500000</td>\n",
       "      <td>23.000000</td>\n",
       "      <td>20.000000</td>\n",
       "      <td>90.661156</td>\n",
       "      <td>878.000000</td>\n",
       "      <td>9.000000</td>\n",
       "      <td>0.000000</td>\n",
       "      <td>2212.600607</td>\n",
       "      <td>835.996260</td>\n",
       "      <td>8.000000</td>\n",
       "      <td>5.000000</td>\n",
       "      <td>1.672804e+02</td>\n",
       "    </tr>\n",
       "    <tr>\n",
       "      <th>50%</th>\n",
       "      <td>7499.000000</td>\n",
       "      <td>56.000000</td>\n",
       "      <td>48.000000</td>\n",
       "      <td>159.568115</td>\n",
       "      <td>1741.000000</td>\n",
       "      <td>71.000000</td>\n",
       "      <td>9.000000</td>\n",
       "      <td>3493.858085</td>\n",
       "      <td>1478.249859</td>\n",
       "      <td>16.000000</td>\n",
       "      <td>12.000000</td>\n",
       "      <td>3.231459e+02</td>\n",
       "    </tr>\n",
       "    <tr>\n",
       "      <th>75%</th>\n",
       "      <td>11248.500000</td>\n",
       "      <td>112.000000</td>\n",
       "      <td>93.000000</td>\n",
       "      <td>254.192341</td>\n",
       "      <td>2623.500000</td>\n",
       "      <td>178.000000</td>\n",
       "      <td>43.000000</td>\n",
       "      <td>5289.861262</td>\n",
       "      <td>2464.362632</td>\n",
       "      <td>23.000000</td>\n",
       "      <td>19.000000</td>\n",
       "      <td>7.579257e+02</td>\n",
       "    </tr>\n",
       "    <tr>\n",
       "      <th>max</th>\n",
       "      <td>14998.000000</td>\n",
       "      <td>743.000000</td>\n",
       "      <td>596.000000</td>\n",
       "      <td>1216.154633</td>\n",
       "      <td>3500.000000</td>\n",
       "      <td>1236.000000</td>\n",
       "      <td>415.000000</td>\n",
       "      <td>21183.401890</td>\n",
       "      <td>15851.727160</td>\n",
       "      <td>31.000000</td>\n",
       "      <td>30.000000</td>\n",
       "      <td>inf</td>\n",
       "    </tr>\n",
       "  </tbody>\n",
       "</table>\n",
       "</div>"
      ],
      "text/plain": [
       "                 ID      sessions        drives  total_sessions  \\\n",
       "count  14999.000000  14999.000000  14999.000000    14999.000000   \n",
       "mean    7499.000000     80.633776     67.281152      189.964447   \n",
       "std     4329.982679     80.699065     65.913872      136.405128   \n",
       "min        0.000000      0.000000      0.000000        0.220211   \n",
       "25%     3749.500000     23.000000     20.000000       90.661156   \n",
       "50%     7499.000000     56.000000     48.000000      159.568115   \n",
       "75%    11248.500000    112.000000     93.000000      254.192341   \n",
       "max    14998.000000    743.000000    596.000000     1216.154633   \n",
       "\n",
       "       n_days_after_onboarding  total_navigations_fav1  \\\n",
       "count             14999.000000            14999.000000   \n",
       "mean               1749.837789              121.605974   \n",
       "std                1008.513876              148.121544   \n",
       "min                   4.000000                0.000000   \n",
       "25%                 878.000000                9.000000   \n",
       "50%                1741.000000               71.000000   \n",
       "75%                2623.500000              178.000000   \n",
       "max                3500.000000             1236.000000   \n",
       "\n",
       "       total_navigations_fav2  driven_km_drives  duration_minutes_drives  \\\n",
       "count            14999.000000      14999.000000             14999.000000   \n",
       "mean                29.672512       4039.340921              1860.976012   \n",
       "std                 45.394651       2502.149334              1446.702288   \n",
       "min                  0.000000         60.441250                18.282082   \n",
       "25%                  0.000000       2212.600607               835.996260   \n",
       "50%                  9.000000       3493.858085              1478.249859   \n",
       "75%                 43.000000       5289.861262              2464.362632   \n",
       "max                415.000000      21183.401890             15851.727160   \n",
       "\n",
       "       activity_days  driving_days  km_per_driving_day  \n",
       "count   14999.000000  14999.000000        1.499900e+04  \n",
       "mean       15.537102     12.179879                 inf  \n",
       "std         9.004655      7.824036                 NaN  \n",
       "min         0.000000      0.000000        3.022063e+00  \n",
       "25%         8.000000      5.000000        1.672804e+02  \n",
       "50%        16.000000     12.000000        3.231459e+02  \n",
       "75%        23.000000     19.000000        7.579257e+02  \n",
       "max        31.000000     30.000000                 inf  "
      ]
     },
     "execution_count": 29,
     "metadata": {},
     "output_type": "execute_result"
    }
   ],
   "source": [
    "# 1. Create `km_per_driving_day` column\n",
    "### YOUR CODE HERE ###\n",
    "df['km_per_driving_day'] = df['driven_km_drives'] / df['driving_days']\n",
    "\n",
    "# 2. Call `describe()` on the new column\n",
    "### YOUR CODE HERE ###\n",
    "df.describe()"
   ]
  },
  {
   "cell_type": "markdown",
   "metadata": {},
   "source": [
    "What do you notice? The mean value is infinity, the standard deviation is NaN, and the max value is infinity. Why do you think this is?\n",
    "\n",
    "This is the result of there being values of zero in the `driving_days` column. Pandas imputes a value of infinity in the corresponding rows of the new column because division by zero is undefined.\n",
    "\n",
    "1. Convert these values from infinity to zero. You can use `np.inf` to refer to a value of infinity.\n",
    "\n",
    "2. Call `describe()` on the `km_per_driving_day` column to verify that it worked."
   ]
  },
  {
   "cell_type": "code",
   "execution_count": 30,
   "metadata": {},
   "outputs": [
    {
     "data": {
      "text/plain": [
       "count    14999.000000\n",
       "mean       578.963113\n",
       "std       1030.094384\n",
       "min          0.000000\n",
       "25%        136.238895\n",
       "50%        272.889272\n",
       "75%        558.686918\n",
       "max      15420.234110\n",
       "Name: km_per_driving_day, dtype: float64"
      ]
     },
     "execution_count": 30,
     "metadata": {},
     "output_type": "execute_result"
    }
   ],
   "source": [
    "# 1. Convert infinite values to zero\n",
    "### YOUR CODE HERE ###\n",
    "df['km_per_driving_day'].replace(np.inf, 0, inplace=True)\n",
    "\n",
    "# 2. Confirm that it worked\n",
    "### YOUR CODE HERE ###\n",
    "df['km_per_driving_day'].describe()"
   ]
  },
  {
   "cell_type": "markdown",
   "metadata": {
    "id": "DVCP1F9thspa"
   },
   "source": [
    "The maximum value is 15,420 kilometers _per drive day_. This is physically impossible. Driving 100 km/hour for 12 hours is 1,200 km. It's unlikely many people averaged more than this each day they drove, so, for now, disregard rows where the distance in this column is greater than 1,200 km.\n",
    "\n",
    "Plot a histogram of the new `km_per_driving_day` column, disregarding those users with values greater than 1,200 km. Each bar should be the same length and have two colors, one color representing the percent of the users in that bar that churned and the other representing the percent that were retained. This can be done by setting the `multiple` parameter of seaborn's [`histplot()`](https://seaborn.pydata.org/generated/seaborn.histplot.html) function to `fill`."
   ]
  },
  {
   "cell_type": "code",
   "execution_count": 31,
   "metadata": {
    "id": "8ntKu1bAhxhA"
   },
   "outputs": [
    {
     "data": {
      "text/plain": [
       "<matplotlib.axes._subplots.AxesSubplot at 0x7f1003fb3a50>"
      ]
     },
     "execution_count": 31,
     "metadata": {},
     "output_type": "execute_result"
    },
    {
     "data": {
      "image/png": "[encoded data removed]",
      "text/plain": [
       "<Figure size 432x288 with 1 Axes>"
      ]
     },
     "metadata": {
      "needs_background": "light"
     },
     "output_type": "display_data"
    }
   ],
   "source": [
    "# Histogram\n",
    "### YOUR CODE HERE ###\n",
    "sns.histplot(data=df,\n",
    "            x='km_per_driving_day',\n",
    "            bins=range(0,1201,20),\n",
    "            hue='label',\n",
    "            multiple='fill'\n",
    "            )"
   ]
  },
  {
   "cell_type": "markdown",
   "metadata": {
    "id": "cD8icOhNh9zD"
   },
   "source": [
    "The churn rate tends to increase as the mean daily distance driven increases, confirming what was found in the previous course. It would be worth investigating further the reasons for long-distance users to discontinue using the app."
   ]
  },
  {
   "cell_type": "markdown",
   "metadata": {
    "id": "bKK1y7xTh-xY"
   },
   "source": [
    "#### **Churn rate per number of driving days**\n",
    "\n",
    "Create another histogram just like the previous one, only this time it should represent the churn rate for each number of driving days."
   ]
  },
  {
   "cell_type": "code",
   "execution_count": 32,
   "metadata": {
    "id": "GPc4nj-7iDPB"
   },
   "outputs": [
    {
     "data": {
      "text/plain": [
       "Text(0, 0.5, '%')"
      ]
     },
     "execution_count": 32,
     "metadata": {},
     "output_type": "execute_result"
    },
    {
     "data": {
      "image/png": "[encoded data removed]",
      "text/plain": [
       "<Figure size 432x288 with 1 Axes>"
      ]
     },
     "metadata": {
      "needs_background": "light"
     },
     "output_type": "display_data"
    }
   ],
   "source": [
    "# Histogram\n",
    "### YOUR CODE HERE ###\n",
    "sns.histplot(data=df,\n",
    "             x='driving_days',\n",
    "             bins=range(0,32),\n",
    "             hue='label',\n",
    "             multiple='fill',\n",
    "             discrete=True\n",
    "            )\n",
    "plt.ylabel('%')"
   ]
  },
  {
   "cell_type": "markdown",
   "metadata": {
    "id": "RUD5Bf6yiDoa"
   },
   "source": [
    "The churn rate is highest for people who didn't use Waze much during the last month. The more times they used the app, the less likely they were to churn. While 40% of the users who didn't use the app at all last month churned, nobody who used the app 30 days churned.\n",
    "\n",
    "This isn't surprising. If people who used the app a lot churned, it would likely indicate dissatisfaction. When people who don't use the app churn, it might be the result of dissatisfaction in the past, or it might be indicative of a lesser need for a navigational app. Maybe they moved to a city with good public transportation and don't need to drive anymore."
   ]
  },
  {
   "cell_type": "markdown",
   "metadata": {
    "id": "75ncCHO7iEFi"
   },
   "source": [
    "#### **Proportion of sessions that occurred in the last month**\n",
    "\n",
    "Create a new column `percent_sessions_in_last_month` that represents the percentage of each user's total sessions that were logged in their last month of use."
   ]
  },
  {
   "cell_type": "code",
   "execution_count": 33,
   "metadata": {
    "id": "NyXwJMJTiSdK"
   },
   "outputs": [],
   "source": [
    "### YOUR CODE HERE ###\n",
    "df['percent_sessions_in_last_month'] = df['sessions'] / df['total_sessions']"
   ]
  },
  {
   "cell_type": "markdown",
   "metadata": {
    "id": "w30I7A3UiWQD"
   },
   "source": [
    "What is the median value of the new column?"
   ]
  },
  {
   "cell_type": "code",
   "execution_count": 34,
   "metadata": {
    "id": "3wa8IZ7UiS5l"
   },
   "outputs": [
    {
     "data": {
      "text/plain": [
       "0.42309702992763176"
      ]
     },
     "execution_count": 34,
     "metadata": {},
     "output_type": "execute_result"
    }
   ],
   "source": [
    "### YOUR CODE HERE ###\n",
    "df['percent_sessions_in_last_month'].median()"
   ]
  },
  {
   "cell_type": "markdown",
   "metadata": {
    "id": "8EKHSAnXiaIY"
   },
   "source": [
    "Now, create a histogram depicting the distribution of values in this new column."
   ]
  },
  {
   "cell_type": "code",
   "execution_count": 35,
   "metadata": {
    "id": "9NtRmPHpieC3"
   },
   "outputs": [
    {
     "data": {
      "text/plain": [
       "<matplotlib.axes._subplots.AxesSubplot at 0x7f10013dc650>"
      ]
     },
     "execution_count": 35,
     "metadata": {},
     "output_type": "execute_result"
    },
    {
     "data": {
      "image/png": "[encoded data removed]",
      "text/plain": [
       "<Figure size 432x288 with 1 Axes>"
      ]
     },
     "metadata": {
      "needs_background": "light"
     },
     "output_type": "display_data"
    }
   ],
   "source": [
    "# Histogram\n",
    "### YOUR CODE HERE ###\n",
    "sns.histplot(data=df,\n",
    "             x='percent_sessions_in_last_month',\n",
    "             hue='label',\n",
    "             multiple='layer'\n",
    "            )"
   ]
  },
  {
   "cell_type": "markdown",
   "metadata": {
    "id": "_oSkxrx2iehb"
   },
   "source": [
    "Check the median value of the `n_days_after_onboarding` variable."
   ]
  },
  {
   "cell_type": "code",
   "execution_count": 36,
   "metadata": {
    "id": "pHJADu8Mi0u2"
   },
   "outputs": [
    {
     "data": {
      "text/plain": [
       "1741.0"
      ]
     },
     "execution_count": 36,
     "metadata": {},
     "output_type": "execute_result"
    }
   ],
   "source": [
    "### YOUR CODE HERE ###\n",
    "df['n_days_after_onboarding'].median()"
   ]
  },
  {
   "cell_type": "markdown",
   "metadata": {
    "id": "4IFsNT-9izvT"
   },
   "source": [
    "Half of the people in the dataset had 40% or more of their sessions in just the last month, yet the overall median time since onboarding is almost five years.\n",
    "\n",
    "Make a histogram of `n_days_after_onboarding` for just the people who had 40% or more of their total sessions in the last month."
   ]
  },
  {
   "cell_type": "code",
   "execution_count": 37,
   "metadata": {
    "id": "AsycVhNdi-Va"
   },
   "outputs": [
    {
     "data": {
      "text/plain": [
       "<matplotlib.axes._subplots.AxesSubplot at 0x7f1000e19350>"
      ]
     },
     "execution_count": 37,
     "metadata": {},
     "output_type": "execute_result"
    },
    {
     "data": {
      "image/png": "[encoded data removed]",
      "text/plain": [
       "<Figure size 432x288 with 1 Axes>"
      ]
     },
     "metadata": {
      "needs_background": "light"
     },
     "output_type": "display_data"
    }
   ],
   "source": [
    "# Histogram\n",
    "### YOUR CODE HERE ###\n",
    "\n",
    "sns.histplot(data=df[df['percent_sessions_in_last_month']>=0.4],\n",
    "             x='n_days_after_onboarding'\n",
    "            )"
   ]
  },
  {
   "cell_type": "markdown",
   "metadata": {
    "id": "flcUGkjUjAqW"
   },
   "source": [
    "The number of days since onboarding for users with 40% or more of their total sessions occurring in just the last month is a uniform distribution. This is very strange. It's worth asking Waze why so many long-time users suddenly used the app so much in the last month."
   ]
  },
  {
   "cell_type": "markdown",
   "metadata": {
    "id": "O0zL7Nd0jMYS"
   },
   "source": [
    "### **Task 3b. Handling outliers**\n",
    "\n",
    "The box plots from the previous section indicated that many of these variables have outliers. These outliers do not seem to be data entry errors; they are present because of the right-skewed distributions.\n",
    "\n",
    "Depending on what you'll be doing with this data, it may be useful to impute outlying data with more reasonable values. One way of performing this imputation is to set a threshold based on a percentile of the distribution.\n",
    "\n",
    "To practice this technique, write a function that calculates the 95th percentile of a given column, then imputes values > the 95th percentile with the value at the 95th percentile.  such as the 95th percentile of the distribution.\n",
    "\n"
   ]
  },
  {
   "cell_type": "code",
   "execution_count": 38,
   "metadata": {
    "id": "4Ki9T-m7jsGy"
   },
   "outputs": [],
   "source": [
    "### YOUR CODE HERE ###\n",
    "def outlier_imputer(column_name, percentile):\n",
    "    threshold = df[column_name].quantile(percentile)\n",
    "    #df.loc[df[column_name] > threshold, column_name] = threshold\n",
    "    df[df[column_name] > threshold] = threshold\n",
    "    print(f'{column_name:>25} | percentile: {percentile} | threshold: {threshold})')"
   ]
  },
  {
   "cell_type": "markdown",
   "metadata": {
    "id": "nsdi-4dSkmMF"
   },
   "source": [
    "Next, apply that function to the following columns:\n",
    "* `sessions`\n",
    "* `drives`\n",
    "* `total_sessions`\n",
    "* `driven_km_drives`\n",
    "* `duration_minutes_drives`"
   ]
  },
  {
   "cell_type": "code",
   "execution_count": 39,
   "metadata": {
    "id": "f6_TKdIHjtS9"
   },
   "outputs": [
    {
     "name": "stdout",
     "output_type": "stream",
     "text": [
      "                 sessions | percentile: 0.95 | threshold: 243.0)\n",
      "                   drives | percentile: 0.95 | threshold: 231.09999999999854)\n",
      "           total_sessions | percentile: 0.95 | threshold: 409.4529207999996)\n",
      "         driven_km_drives | percentile: 0.95 | threshold: 8678.94970479999)\n",
      "  duration_minutes_drives | percentile: 0.95 | threshold: 7335.314328577827)\n"
     ]
    }
   ],
   "source": [
    "### YOUR CODE HERE ###\n",
    "for column in ['sessions', 'drives', 'total_sessions', 'driven_km_drives', \n",
    "               'duration_minutes_drives']:\n",
    "    outlier_imputer(column,0.95)"
   ]
  },
  {
   "cell_type": "markdown",
   "metadata": {
    "id": "_Az4Ma-xj3K4"
   },
   "source": [
    "Call `describe()` to see if your change worked."
   ]
  },
  {
   "cell_type": "code",
   "execution_count": 40,
   "metadata": {
    "id": "IXQkG9RekP85"
   },
   "outputs": [
    {
     "data": {
      "text/html": [
       "<div>\n",
       "<style scoped>\n",
       "    .dataframe tbody tr th:only-of-type {\n",
       "        vertical-align: middle;\n",
       "    }\n",
       "\n",
       "    .dataframe tbody tr th {\n",
       "        vertical-align: top;\n",
       "    }\n",
       "\n",
       "    .dataframe thead th {\n",
       "        text-align: right;\n",
       "    }\n",
       "</style>\n",
       "<table border=\"1\" class=\"dataframe\">\n",
       "  <thead>\n",
       "    <tr style=\"text-align: right;\">\n",
       "      <th></th>\n",
       "      <th>ID</th>\n",
       "      <th>sessions</th>\n",
       "      <th>drives</th>\n",
       "      <th>total_sessions</th>\n",
       "      <th>n_days_after_onboarding</th>\n",
       "      <th>total_navigations_fav1</th>\n",
       "      <th>total_navigations_fav2</th>\n",
       "      <th>driven_km_drives</th>\n",
       "      <th>duration_minutes_drives</th>\n",
       "      <th>activity_days</th>\n",
       "      <th>driving_days</th>\n",
       "      <th>km_per_driving_day</th>\n",
       "      <th>percent_sessions_in_last_month</th>\n",
       "    </tr>\n",
       "  </thead>\n",
       "  <tbody>\n",
       "    <tr>\n",
       "      <th>count</th>\n",
       "      <td>14999.000000</td>\n",
       "      <td>14999.000000</td>\n",
       "      <td>14999.000000</td>\n",
       "      <td>14999.000000</td>\n",
       "      <td>14999.000000</td>\n",
       "      <td>14999.000000</td>\n",
       "      <td>14999.000000</td>\n",
       "      <td>14999.000000</td>\n",
       "      <td>14999.000000</td>\n",
       "      <td>14999.000000</td>\n",
       "      <td>14999.000000</td>\n",
       "      <td>14999.000000</td>\n",
       "      <td>14999.000000</td>\n",
       "    </tr>\n",
       "    <tr>\n",
       "      <th>mean</th>\n",
       "      <td>6788.454926</td>\n",
       "      <td>454.531998</td>\n",
       "      <td>445.608470</td>\n",
       "      <td>533.061973</td>\n",
       "      <td>1886.059500</td>\n",
       "      <td>503.035431</td>\n",
       "      <td>424.104769</td>\n",
       "      <td>3505.645616</td>\n",
       "      <td>1853.815251</td>\n",
       "      <td>411.976628</td>\n",
       "      <td>409.142239</td>\n",
       "      <td>845.038876</td>\n",
       "      <td>399.197417</td>\n",
       "    </tr>\n",
       "    <tr>\n",
       "      <th>std</th>\n",
       "      <td>4531.908354</td>\n",
       "      <td>1581.576294</td>\n",
       "      <td>1583.511469</td>\n",
       "      <td>1563.996994</td>\n",
       "      <td>1615.495341</td>\n",
       "      <td>1574.929341</td>\n",
       "      <td>1588.837521</td>\n",
       "      <td>2215.608205</td>\n",
       "      <td>1725.950340</td>\n",
       "      <td>1591.317634</td>\n",
       "      <td>1592.018857</td>\n",
       "      <td>1694.191901</td>\n",
       "      <td>1594.486132</td>\n",
       "    </tr>\n",
       "    <tr>\n",
       "      <th>min</th>\n",
       "      <td>2.000000</td>\n",
       "      <td>0.000000</td>\n",
       "      <td>0.000000</td>\n",
       "      <td>0.220211</td>\n",
       "      <td>4.000000</td>\n",
       "      <td>0.000000</td>\n",
       "      <td>0.000000</td>\n",
       "      <td>60.441250</td>\n",
       "      <td>18.282082</td>\n",
       "      <td>0.000000</td>\n",
       "      <td>0.000000</td>\n",
       "      <td>0.000000</td>\n",
       "      <td>0.000000</td>\n",
       "    </tr>\n",
       "    <tr>\n",
       "      <th>25%</th>\n",
       "      <td>2678.500000</td>\n",
       "      <td>26.000000</td>\n",
       "      <td>22.000000</td>\n",
       "      <td>94.574298</td>\n",
       "      <td>632.000000</td>\n",
       "      <td>18.000000</td>\n",
       "      <td>0.000000</td>\n",
       "      <td>1776.199858</td>\n",
       "      <td>645.100131</td>\n",
       "      <td>9.000000</td>\n",
       "      <td>7.000000</td>\n",
       "      <td>150.760972</td>\n",
       "      <td>0.236406</td>\n",
       "    </tr>\n",
       "    <tr>\n",
       "      <th>50%</th>\n",
       "      <td>7072.000000</td>\n",
       "      <td>64.000000</td>\n",
       "      <td>54.000000</td>\n",
       "      <td>167.798846</td>\n",
       "      <td>1638.000000</td>\n",
       "      <td>102.000000</td>\n",
       "      <td>19.000000</td>\n",
       "      <td>3184.068876</td>\n",
       "      <td>1338.651697</td>\n",
       "      <td>18.000000</td>\n",
       "      <td>14.000000</td>\n",
       "      <td>275.948894</td>\n",
       "      <td>0.502882</td>\n",
       "    </tr>\n",
       "    <tr>\n",
       "      <th>75%</th>\n",
       "      <td>10604.500000</td>\n",
       "      <td>140.000000</td>\n",
       "      <td>116.000000</td>\n",
       "      <td>249.749329</td>\n",
       "      <td>2673.000000</td>\n",
       "      <td>233.000000</td>\n",
       "      <td>80.000000</td>\n",
       "      <td>5045.354412</td>\n",
       "      <td>2407.087614</td>\n",
       "      <td>27.000000</td>\n",
       "      <td>22.000000</td>\n",
       "      <td>535.084219</td>\n",
       "      <td>0.835238</td>\n",
       "    </tr>\n",
       "    <tr>\n",
       "      <th>max</th>\n",
       "      <td>14998.000000</td>\n",
       "      <td>7335.314329</td>\n",
       "      <td>7335.314329</td>\n",
       "      <td>7335.314329</td>\n",
       "      <td>7335.314329</td>\n",
       "      <td>7335.314329</td>\n",
       "      <td>7335.314329</td>\n",
       "      <td>8678.205948</td>\n",
       "      <td>7335.314329</td>\n",
       "      <td>7335.314329</td>\n",
       "      <td>7335.314329</td>\n",
       "      <td>8599.176581</td>\n",
       "      <td>7335.314329</td>\n",
       "    </tr>\n",
       "  </tbody>\n",
       "</table>\n",
       "</div>"
      ],
      "text/plain": [
       "                 ID      sessions        drives  total_sessions  \\\n",
       "count  14999.000000  14999.000000  14999.000000    14999.000000   \n",
       "mean    6788.454926    454.531998    445.608470      533.061973   \n",
       "std     4531.908354   1581.576294   1583.511469     1563.996994   \n",
       "min        2.000000      0.000000      0.000000        0.220211   \n",
       "25%     2678.500000     26.000000     22.000000       94.574298   \n",
       "50%     7072.000000     64.000000     54.000000      167.798846   \n",
       "75%    10604.500000    140.000000    116.000000      249.749329   \n",
       "max    14998.000000   7335.314329   7335.314329     7335.314329   \n",
       "\n",
       "       n_days_after_onboarding  total_navigations_fav1  \\\n",
       "count             14999.000000            14999.000000   \n",
       "mean               1886.059500              503.035431   \n",
       "std                1615.495341             1574.929341   \n",
       "min                   4.000000                0.000000   \n",
       "25%                 632.000000               18.000000   \n",
       "50%                1638.000000              102.000000   \n",
       "75%                2673.000000              233.000000   \n",
       "max                7335.314329             7335.314329   \n",
       "\n",
       "       total_navigations_fav2  driven_km_drives  duration_minutes_drives  \\\n",
       "count            14999.000000      14999.000000             14999.000000   \n",
       "mean               424.104769       3505.645616              1853.815251   \n",
       "std               1588.837521       2215.608205              1725.950340   \n",
       "min                  0.000000         60.441250                18.282082   \n",
       "25%                  0.000000       1776.199858               645.100131   \n",
       "50%                 19.000000       3184.068876              1338.651697   \n",
       "75%                 80.000000       5045.354412              2407.087614   \n",
       "max               7335.314329       8678.205948              7335.314329   \n",
       "\n",
       "       activity_days  driving_days  km_per_driving_day  \\\n",
       "count   14999.000000  14999.000000        14999.000000   \n",
       "mean      411.976628    409.142239          845.038876   \n",
       "std      1591.317634   1592.018857         1694.191901   \n",
       "min         0.000000      0.000000            0.000000   \n",
       "25%         9.000000      7.000000          150.760972   \n",
       "50%        18.000000     14.000000          275.948894   \n",
       "75%        27.000000     22.000000          535.084219   \n",
       "max      7335.314329   7335.314329         8599.176581   \n",
       "\n",
       "       percent_sessions_in_last_month  \n",
       "count                    14999.000000  \n",
       "mean                       399.197417  \n",
       "std                       1594.486132  \n",
       "min                          0.000000  \n",
       "25%                          0.236406  \n",
       "50%                          0.502882  \n",
       "75%                          0.835238  \n",
       "max                       7335.314329  "
      ]
     },
     "execution_count": 40,
     "metadata": {},
     "output_type": "execute_result"
    }
   ],
   "source": [
    "### YOUR CODE HERE ###\n",
    "df.describe()"
   ]
  },
  {
   "cell_type": "markdown",
   "metadata": {
    "id": "DHwqofOJkQcl"
   },
   "source": [
    "#### **Conclusion**\n",
    "\n",
    "Analysis revealed that the overall churn rate is \\~17%, and that this rate is consistent between iPhone users and Android users.\n",
    "\n",
    "Perhaps you feel that the more deeply you explore the data, the more questions arise. This is not uncommon! In this case, it's worth asking the Waze data team why so many users used the app so much in just the last month.\n",
    "\n",
    "Also, EDA has revealed that users who drive very long distances on their driving days are _more_ likely to churn, but users who drive more often are _less_ likely to churn. The reason for this discrepancy is an opportunity for further investigation, and it would be something else to ask the Waze data team about."
   ]
  },
  {
   "cell_type": "markdown",
   "metadata": {
    "id": "NsvBtco1x8GN"
   },
   "source": [
    "<img src=\"images/Execute.png\" width=\"100\" height=\"100\" align=left>\n",
    "\n",
    "## **PACE: Execute**\n",
    "\n",
    "Consider the questions in your PACE Strategy Document to reflect on the Execute stage."
   ]
  },
  {
   "cell_type": "markdown",
   "metadata": {
    "id": "csHAfM-RSO7l"
   },
   "source": [
    "### **Task 4a. Results and evaluation**\n",
    "\n",
    "Having built visualizations in Python, what have you learned about the dataset? What other questions have your visualizations uncovered that you should pursue?\n",
    "\n",
    "**Pro tip:** Put yourself in your client's perspective. What would they want to know?\n",
    "\n",
    "Use the following code fields to pursue any additional EDA based on the visualizations you've already plotted. Also use the space to make sure your visualizations are clean, easily understandable, and accessible.\n",
    "\n",
    "**Ask yourself:** Did you consider color, contrast, emphasis, and labeling?\n",
    "\n"
   ]
  },
  {
   "cell_type": "markdown",
   "metadata": {
    "id": "pOp0vmf1zOHO"
   },
   "source": [
    "==> ENTER YOUR RESPONSE HERE\n",
    "\n",
    "I have learned ....\n",
    "\n",
    "My other questions are ....\n",
    "\n",
    "My client would likely want to know ...\n",
    "\n",
    "\n"
   ]
  },
  {
   "cell_type": "markdown",
   "metadata": {
    "id": "8DPt8f6Pa2hg"
   },
   "source": [
    "Use the following two code blocks (add more blocks if you like) to do additional EDA you feel is important based on the given scenario."
   ]
  },
  {
   "cell_type": "code",
   "execution_count": 41,
   "metadata": {
    "id": "puYiPmvGdTJH"
   },
   "outputs": [],
   "source": [
    "### YOUR CODE HERE ###\n",
    "df['monthly_minutes_per_drive'] = df['duration_minutes_drives'] / df['drives']"
   ]
  },
  {
   "cell_type": "code",
   "execution_count": 42,
   "metadata": {
    "id": "iEv7pHw-dTRP"
   },
   "outputs": [
    {
     "data": {
      "text/html": [
       "<div>\n",
       "<style scoped>\n",
       "    .dataframe tbody tr th:only-of-type {\n",
       "        vertical-align: middle;\n",
       "    }\n",
       "\n",
       "    .dataframe tbody tr th {\n",
       "        vertical-align: top;\n",
       "    }\n",
       "\n",
       "    .dataframe thead th {\n",
       "        text-align: right;\n",
       "    }\n",
       "</style>\n",
       "<table border=\"1\" class=\"dataframe\">\n",
       "  <thead>\n",
       "    <tr style=\"text-align: right;\">\n",
       "      <th></th>\n",
       "      <th>ID</th>\n",
       "      <th>sessions</th>\n",
       "      <th>drives</th>\n",
       "      <th>total_sessions</th>\n",
       "      <th>n_days_after_onboarding</th>\n",
       "      <th>total_navigations_fav1</th>\n",
       "      <th>total_navigations_fav2</th>\n",
       "      <th>driven_km_drives</th>\n",
       "      <th>duration_minutes_drives</th>\n",
       "      <th>activity_days</th>\n",
       "      <th>driving_days</th>\n",
       "      <th>km_per_driving_day</th>\n",
       "      <th>percent_sessions_in_last_month</th>\n",
       "      <th>monthly_minutes_per_drive</th>\n",
       "    </tr>\n",
       "  </thead>\n",
       "  <tbody>\n",
       "    <tr>\n",
       "      <th>count</th>\n",
       "      <td>14999.000000</td>\n",
       "      <td>14999.000000</td>\n",
       "      <td>14999.000000</td>\n",
       "      <td>14999.000000</td>\n",
       "      <td>14999.000000</td>\n",
       "      <td>14999.000000</td>\n",
       "      <td>14999.000000</td>\n",
       "      <td>14999.000000</td>\n",
       "      <td>14999.000000</td>\n",
       "      <td>14999.000000</td>\n",
       "      <td>14999.000000</td>\n",
       "      <td>14999.000000</td>\n",
       "      <td>14999.000000</td>\n",
       "      <td>14999.000000</td>\n",
       "    </tr>\n",
       "    <tr>\n",
       "      <th>mean</th>\n",
       "      <td>6788.454926</td>\n",
       "      <td>454.531998</td>\n",
       "      <td>445.608470</td>\n",
       "      <td>533.061973</td>\n",
       "      <td>1886.059500</td>\n",
       "      <td>503.035431</td>\n",
       "      <td>424.104769</td>\n",
       "      <td>3505.645616</td>\n",
       "      <td>1853.815251</td>\n",
       "      <td>411.976628</td>\n",
       "      <td>409.142239</td>\n",
       "      <td>845.038876</td>\n",
       "      <td>399.197417</td>\n",
       "      <td>91.089342</td>\n",
       "    </tr>\n",
       "    <tr>\n",
       "      <th>std</th>\n",
       "      <td>4531.908354</td>\n",
       "      <td>1581.576294</td>\n",
       "      <td>1583.511469</td>\n",
       "      <td>1563.996994</td>\n",
       "      <td>1615.495341</td>\n",
       "      <td>1574.929341</td>\n",
       "      <td>1588.837521</td>\n",
       "      <td>2215.608205</td>\n",
       "      <td>1725.950340</td>\n",
       "      <td>1591.317634</td>\n",
       "      <td>1592.018857</td>\n",
       "      <td>1694.191901</td>\n",
       "      <td>1594.486132</td>\n",
       "      <td>266.413087</td>\n",
       "    </tr>\n",
       "    <tr>\n",
       "      <th>min</th>\n",
       "      <td>2.000000</td>\n",
       "      <td>0.000000</td>\n",
       "      <td>0.000000</td>\n",
       "      <td>0.220211</td>\n",
       "      <td>4.000000</td>\n",
       "      <td>0.000000</td>\n",
       "      <td>0.000000</td>\n",
       "      <td>60.441250</td>\n",
       "      <td>18.282082</td>\n",
       "      <td>0.000000</td>\n",
       "      <td>0.000000</td>\n",
       "      <td>0.000000</td>\n",
       "      <td>0.000000</td>\n",
       "      <td>0.000000</td>\n",
       "    </tr>\n",
       "    <tr>\n",
       "      <th>25%</th>\n",
       "      <td>2678.500000</td>\n",
       "      <td>26.000000</td>\n",
       "      <td>22.000000</td>\n",
       "      <td>94.574298</td>\n",
       "      <td>632.000000</td>\n",
       "      <td>18.000000</td>\n",
       "      <td>0.000000</td>\n",
       "      <td>1776.199858</td>\n",
       "      <td>645.100131</td>\n",
       "      <td>9.000000</td>\n",
       "      <td>7.000000</td>\n",
       "      <td>150.760972</td>\n",
       "      <td>0.236406</td>\n",
       "      <td>7.804242</td>\n",
       "    </tr>\n",
       "    <tr>\n",
       "      <th>50%</th>\n",
       "      <td>7072.000000</td>\n",
       "      <td>64.000000</td>\n",
       "      <td>54.000000</td>\n",
       "      <td>167.798846</td>\n",
       "      <td>1638.000000</td>\n",
       "      <td>102.000000</td>\n",
       "      <td>19.000000</td>\n",
       "      <td>3184.068876</td>\n",
       "      <td>1338.651697</td>\n",
       "      <td>18.000000</td>\n",
       "      <td>14.000000</td>\n",
       "      <td>275.948894</td>\n",
       "      <td>0.502882</td>\n",
       "      <td>24.971285</td>\n",
       "    </tr>\n",
       "    <tr>\n",
       "      <th>75%</th>\n",
       "      <td>10604.500000</td>\n",
       "      <td>140.000000</td>\n",
       "      <td>116.000000</td>\n",
       "      <td>249.749329</td>\n",
       "      <td>2673.000000</td>\n",
       "      <td>233.000000</td>\n",
       "      <td>80.000000</td>\n",
       "      <td>5045.354412</td>\n",
       "      <td>2407.087614</td>\n",
       "      <td>27.000000</td>\n",
       "      <td>22.000000</td>\n",
       "      <td>535.084219</td>\n",
       "      <td>0.835238</td>\n",
       "      <td>67.954467</td>\n",
       "    </tr>\n",
       "    <tr>\n",
       "      <th>max</th>\n",
       "      <td>14998.000000</td>\n",
       "      <td>7335.314329</td>\n",
       "      <td>7335.314329</td>\n",
       "      <td>7335.314329</td>\n",
       "      <td>7335.314329</td>\n",
       "      <td>7335.314329</td>\n",
       "      <td>7335.314329</td>\n",
       "      <td>8678.205948</td>\n",
       "      <td>7335.314329</td>\n",
       "      <td>7335.314329</td>\n",
       "      <td>7335.314329</td>\n",
       "      <td>8599.176581</td>\n",
       "      <td>7335.314329</td>\n",
       "      <td>5719.169461</td>\n",
       "    </tr>\n",
       "  </tbody>\n",
       "</table>\n",
       "</div>"
      ],
      "text/plain": [
       "                 ID      sessions        drives  total_sessions  \\\n",
       "count  14999.000000  14999.000000  14999.000000    14999.000000   \n",
       "mean    6788.454926    454.531998    445.608470      533.061973   \n",
       "std     4531.908354   1581.576294   1583.511469     1563.996994   \n",
       "min        2.000000      0.000000      0.000000        0.220211   \n",
       "25%     2678.500000     26.000000     22.000000       94.574298   \n",
       "50%     7072.000000     64.000000     54.000000      167.798846   \n",
       "75%    10604.500000    140.000000    116.000000      249.749329   \n",
       "max    14998.000000   7335.314329   7335.314329     7335.314329   \n",
       "\n",
       "       n_days_after_onboarding  total_navigations_fav1  \\\n",
       "count             14999.000000            14999.000000   \n",
       "mean               1886.059500              503.035431   \n",
       "std                1615.495341             1574.929341   \n",
       "min                   4.000000                0.000000   \n",
       "25%                 632.000000               18.000000   \n",
       "50%                1638.000000              102.000000   \n",
       "75%                2673.000000              233.000000   \n",
       "max                7335.314329             7335.314329   \n",
       "\n",
       "       total_navigations_fav2  driven_km_drives  duration_minutes_drives  \\\n",
       "count            14999.000000      14999.000000             14999.000000   \n",
       "mean               424.104769       3505.645616              1853.815251   \n",
       "std               1588.837521       2215.608205              1725.950340   \n",
       "min                  0.000000         60.441250                18.282082   \n",
       "25%                  0.000000       1776.199858               645.100131   \n",
       "50%                 19.000000       3184.068876              1338.651697   \n",
       "75%                 80.000000       5045.354412              2407.087614   \n",
       "max               7335.314329       8678.205948              7335.314329   \n",
       "\n",
       "       activity_days  driving_days  km_per_driving_day  \\\n",
       "count   14999.000000  14999.000000        14999.000000   \n",
       "mean      411.976628    409.142239          845.038876   \n",
       "std      1591.317634   1592.018857         1694.191901   \n",
       "min         0.000000      0.000000            0.000000   \n",
       "25%         9.000000      7.000000          150.760972   \n",
       "50%        18.000000     14.000000          275.948894   \n",
       "75%        27.000000     22.000000          535.084219   \n",
       "max      7335.314329   7335.314329         8599.176581   \n",
       "\n",
       "       percent_sessions_in_last_month  monthly_minutes_per_drive  \n",
       "count                    14999.000000               14999.000000  \n",
       "mean                       399.197417                  91.089342  \n",
       "std                       1594.486132                 266.413087  \n",
       "min                          0.000000                   0.000000  \n",
       "25%                          0.236406                   7.804242  \n",
       "50%                          0.502882                  24.971285  \n",
       "75%                          0.835238                  67.954467  \n",
       "max                       7335.314329                5719.169461  "
      ]
     },
     "execution_count": 42,
     "metadata": {},
     "output_type": "execute_result"
    }
   ],
   "source": [
    "### YOUR CODE HERE ###\n",
    "df['monthly_minutes_per_drive'].replace(np.inf, 0, inplace=True)\n",
    "df.describe()"
   ]
  },
  {
   "cell_type": "markdown",
   "metadata": {
    "id": "U4HeITeOwXfo"
   },
   "source": [
    "### **Task 4b. Conclusion**\n",
    "\n",
    "Now that you've explored and visualized your data, the next step is to share your findings with Harriet Hadzic, Waze's Director of Data Analysis. Consider the following questions as you prepare to write your executive summary. Think about key points you may want to share with the team, and what information is most relevant to the user churn project.\n",
    "\n",
    "**Questions:**\n",
    "\n",
    "1. What types of distributions did you notice in the variables? What did this tell you about the data?\n",
    "\n",
    "2. Was there anything that led you to believe the data was erroneous or problematic in any way?\n",
    "\n",
    "3. Did your investigation give rise to further questions that you would like to explore or ask the Waze team about?\n",
    "\n",
    "4. What percentage of users churned and what percentage were retained?\n",
    "\n",
    "5. What factors correlated with user churn? How?\n",
    "\n",
    "6. Did newer uses have greater representation in this dataset than users with longer tenure? How do you know?\n"
   ]
  },
  {
   "cell_type": "markdown",
   "metadata": {
    "id": "5o3dV6NYzNSs"
   },
   "source": [
    "1. Nearly all the variables were either very right-skewed or uniformly distributed. For the right-skewed distributions, this means that most users had values in the lower end of the range for that variable. For the uniform distributions, this means that users were generally equally likely to have values anywhere within the range for that variable.\n",
    "2. Several variables had highly improbable outlying values, such as driven_km_drives. Some of the monthly variables also might be problematic, such as activity_days and driving_days, because one has a max value of 31 while the other has a max value of 30, indicating that data collection might not have occurred in the same month for both of these variables.\n",
    "3. Yes. I’d want to ask the Waze data team to confirm that the monthly variables were collected during the same month, given the fact that some have max values of 30 days while others have 31 days. I’d also want to learn why so many long-time users suddenly started using the app so much in just the last month. Was there anything that changed in the last month that might prompt this kind of behavior?\n",
    "4. Less than 18% of users churned, and about 82% were retained.\n",
    "5. Distance driven per driving day had a positive correlation with user churn. The farther a user drove on each driving day, the more likely they were to churn. On the other hand, number of driving days had a negative correlation with churn. Users who drove more days of the last month were less likely to churn.\n",
    "6. No. Users of all tenures from brand new to about 10 years were relatively evenly represented in the data, as shown in the histogram for n_days_after_onboarding, which reveals a uniform distribution for this variable.\n",
    "\n",
    "\n"
   ]
  },
  {
   "cell_type": "markdown",
   "metadata": {},
   "source": [
    "**Congratulations!** You've completed this lab. However, you may not notice a green check mark next to this item on Coursera's platform. Please continue your progress regardless of the check mark. Just click on the \"save\" icon at the top of this notebook to ensure your work has been logged."
   ]
  }
 ],
 "metadata": {
  "colab": {
   "provenance": [
    {
     "file_id": "1DQhamPzI3QON4eTBzHHk4F0UnN9eILCd",
     "timestamp": 1671052108573
    },
    {
     "file_id": "1y_9vAHPuwnA8Kmbw8rzKTHoWxLUcyJM-",
     "timestamp": 1668985233529
    }
   ],
   "toc_visible": true
  },
  "kernelspec": {
   "display_name": "Python 3",
   "language": "python",
   "name": "python3"
  },
  "language_info": {
   "codemirror_mode": {
    "name": "ipython",
    "version": 3
   },
   "file_extension": ".py",
   "mimetype": "text/x-python",
   "name": "python",
   "nbconvert_exporter": "python",
   "pygments_lexer": "ipython3",
   "version": "3.7.6"
  }
 },
 "nbformat": 4,
 "nbformat_minor": 1
}
